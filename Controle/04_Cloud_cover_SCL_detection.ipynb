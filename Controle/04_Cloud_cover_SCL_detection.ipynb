{
 "cells": [
  {
   "cell_type": "code",
   "execution_count": 1,
   "metadata": {},
   "outputs": [
    {
     "data": {
      "text/plain": [
       "True"
      ]
     },
     "execution_count": 1,
     "metadata": {},
     "output_type": "execute_result"
    }
   ],
   "source": [
    "from intake import open_catalog\n",
    "import pandas as pd\n",
    "import numpy as np\n",
    "from pystac_client import Client as psc\n",
    "import stackstac\n",
    "import rasterio.features\n",
    "from pyproj import CRS\n",
    "from dotenv import load_dotenv\n",
    "import os\n",
    "from datetime import datetime, timedelta\n",
    "from dask.distributed import Client, LocalCluster, Variable\n",
    "import dask\n",
    "import dask_geopandas as dg\n",
    "\n",
    "load_dotenv()"
   ]
  },
  {
   "cell_type": "code",
   "execution_count": 2,
   "metadata": {},
   "outputs": [],
   "source": [
    "#### dask worker tcp://172.20.12.11:8786 --nthreads=12"
   ]
  },
  {
   "cell_type": "code",
   "execution_count": 3,
   "metadata": {},
   "outputs": [],
   "source": [
    "URL = \"https://earth-search.aws.element84.com/v1\"\n",
    "\n",
    "collection = \"SENTINEL-2\"\n",
    "collect_amazon ='sentinel-2-l2a'\n",
    "collect_EE = 'COPERNICUS/S2_SR_HARMONIZED'\n",
    "\n",
    "date_start=datetime(2023,12,1)\n",
    "date_end=datetime(2023,12,31)\n",
    "\n",
    "catalog_path = f'{os.getenv(\"PROJECT_PATH\")}/data_reference_feux.yaml'\n",
    "table_source=\"sentinel_surfaces_detectees\""
   ]
  },
  {
   "cell_type": "code",
   "execution_count": 4,
   "metadata": {},
   "outputs": [
    {
     "data": {
      "text/html": [
       "<div>\n",
       "    <div style=\"width: 24px; height: 24px; background-color: #e1e1e1; border: 3px solid #9D9D9D; border-radius: 5px; position: absolute;\"> </div>\n",
       "    <div style=\"margin-left: 48px;\">\n",
       "        <h3 style=\"margin-bottom: 0px;\">Client</h3>\n",
       "        <p style=\"color: #9D9D9D; margin-bottom: 0px;\">Client-d316d01f-2dcf-11ef-b94c-0093375a7a89</p>\n",
       "        <table style=\"width: 100%; text-align: left;\">\n",
       "\n",
       "        <tr>\n",
       "        \n",
       "            <td style=\"text-align: left;\"><strong>Connection method:</strong> Direct</td>\n",
       "            <td style=\"text-align: left;\"></td>\n",
       "        \n",
       "        </tr>\n",
       "\n",
       "        \n",
       "            <tr>\n",
       "                <td style=\"text-align: left;\">\n",
       "                    <strong>Dashboard: </strong> <a href=\"http://172.20.12.11:8787/status\" target=\"_blank\">http://172.20.12.11:8787/status</a>\n",
       "                </td>\n",
       "                <td style=\"text-align: left;\"></td>\n",
       "            </tr>\n",
       "        \n",
       "\n",
       "        </table>\n",
       "\n",
       "        \n",
       "\n",
       "        \n",
       "            <details>\n",
       "            <summary style=\"margin-bottom: 20px;\"><h3 style=\"display: inline;\">Scheduler Info</h3></summary>\n",
       "            <div style=\"\">\n",
       "    <div>\n",
       "        <div style=\"width: 24px; height: 24px; background-color: #FFF7E5; border: 3px solid #FF6132; border-radius: 5px; position: absolute;\"> </div>\n",
       "        <div style=\"margin-left: 48px;\">\n",
       "            <h3 style=\"margin-bottom: 0px;\">Scheduler</h3>\n",
       "            <p style=\"color: #9D9D9D; margin-bottom: 0px;\">Scheduler-7a796a20-e1b7-422c-909b-32613989382a</p>\n",
       "            <table style=\"width: 100%; text-align: left;\">\n",
       "                <tr>\n",
       "                    <td style=\"text-align: left;\">\n",
       "                        <strong>Comm:</strong> tcp://172.28.0.5:8786\n",
       "                    </td>\n",
       "                    <td style=\"text-align: left;\">\n",
       "                        <strong>Workers:</strong> 0\n",
       "                    </td>\n",
       "                </tr>\n",
       "                <tr>\n",
       "                    <td style=\"text-align: left;\">\n",
       "                        <strong>Dashboard:</strong> <a href=\"http://172.28.0.5:8787/status\" target=\"_blank\">http://172.28.0.5:8787/status</a>\n",
       "                    </td>\n",
       "                    <td style=\"text-align: left;\">\n",
       "                        <strong>Total threads:</strong> 0\n",
       "                    </td>\n",
       "                </tr>\n",
       "                <tr>\n",
       "                    <td style=\"text-align: left;\">\n",
       "                        <strong>Started:</strong> 1 day ago\n",
       "                    </td>\n",
       "                    <td style=\"text-align: left;\">\n",
       "                        <strong>Total memory:</strong> 0 B\n",
       "                    </td>\n",
       "                </tr>\n",
       "            </table>\n",
       "        </div>\n",
       "    </div>\n",
       "\n",
       "    <details style=\"margin-left: 48px;\">\n",
       "        <summary style=\"margin-bottom: 20px;\">\n",
       "            <h3 style=\"display: inline;\">Workers</h3>\n",
       "        </summary>\n",
       "\n",
       "        \n",
       "\n",
       "    </details>\n",
       "</div>\n",
       "            </details>\n",
       "        \n",
       "\n",
       "    </div>\n",
       "</div>"
      ],
      "text/plain": [
       "<Client: 'tcp://172.28.0.5:8786' processes=0 threads=0, memory=0 B>"
      ]
     },
     "execution_count": 4,
     "metadata": {},
     "output_type": "execute_result"
    }
   ],
   "source": [
    "def getDaskClient(local=False):\n",
    "\n",
    "    def createClient(schedulerIp=\"172.20.12.11:8786\"):\n",
    "        client = Client(schedulerIp)\n",
    "        return client\n",
    "\n",
    "    if local :\n",
    "        # Démarrer un cluster local avec 4 cœurs\n",
    "        cluster = LocalCluster(n_workers=2,threads_per_worker=8,silence_logs='DEBUG',memory_limit='20GB', timeout=\"60s\",heartbeat_interval=\"10s\")\n",
    "\n",
    "        client = Client(cluster)\n",
    "        return client\n",
    "\n",
    "\n",
    "    if 'client' in globals():   \n",
    "        if client.scheduler != None:\n",
    "        # La variable client existe dans l'espace de noms global\n",
    "            return client\n",
    "        else:\n",
    "            schedulerIp = os.getenv(\"SCHEDULER_IP\")\n",
    "            if schedulerIp:\n",
    "                client = createClient(schedulerIp)\n",
    "            else:\n",
    "                client = createClient(schedulerIp)\n",
    "                \n",
    "    else:\n",
    "        schedulerIp = os.getenv(\"SCHEDULER_IP\")\n",
    "        if schedulerIp:\n",
    "            client = createClient(schedulerIp)\n",
    "        else:\n",
    "            client = createClient()\n",
    "\n",
    "    return client\n",
    "\n",
    "client = getDaskClient(local=False)\n",
    "client"
   ]
  },
  {
   "cell_type": "code",
   "execution_count": 5,
   "metadata": {},
   "outputs": [
    {
     "name": "stderr",
     "output_type": "stream",
     "text": [
      "C:\\Users\\oriane.bruyere\\AppData\\Local\\Temp\\ipykernel_31052\\156162970.py:18: FutureWarning: Currently, index_parts defaults to True, but in the future, it will default to False to be consistent with Pandas. Use `index_parts=True` to keep the current behavior and True/False to silence the warning.\n",
      "  data_cloud = data_cloud.explode()\n"
     ]
    }
   ],
   "source": [
    "#sql = f\"\"\"SELECT *\n",
    "#FROM feux_cq.{table_source} si\n",
    "#WHERE si.date_ >= '{pd.to_datetime(date_start).strftime('%Y-%m-%d')}' AND si.date_ <= '{pd.to_datetime(date_end).strftime('%Y-%m-%d')}'\n",
    "#\"\"\"\n",
    "\n",
    "sql = f\"\"\"SELECT *\n",
    "FROM feux_cq.{table_source} si\n",
    "WHERE si.surface_id_h3 = 'L2A_T58KDB_20231224_8f9f5e5593a6982'\n",
    "\"\"\"\n",
    "\n",
    "catalog = open_catalog(catalog_path)\n",
    "dataCatalog = getattr(catalog, table_source)(sql_expr=sql)\n",
    "data = dataCatalog.read()\n",
    "\n",
    "data['date_'] = pd.to_datetime(data['date_'], format='%Y-%m-%d').dt.date\n",
    "data_cloud = data.to_crs(epsg=4326)\n",
    "\n",
    "data_cloud = data_cloud.explode()\n",
    "data_cloud=data_cloud.reset_index(drop=True)"
   ]
  },
  {
   "cell_type": "code",
   "execution_count": 6,
   "metadata": {},
   "outputs": [],
   "source": [
    "def find_image_stac(bbox, dates):\n",
    "    client = psc.open(URL)\n",
    "    search = client.search(\n",
    "        collections=[collect_amazon],\n",
    "        bbox=bbox,\n",
    "        datetime=dates)\n",
    "\n",
    "    print(f\"{search.matched()} scenes Sentinel-2 L2A trouvées dans l'intervalle temporel\")\n",
    "    items = search.item_collection()\n",
    "    \n",
    "    if len(items) == 0:\n",
    "        return None, None\n",
    "    \n",
    "    sentinel_stack = stackstac.stack(\n",
    "        items,\n",
    "        bounds_latlon=[bbox[0], bbox[1], bbox[2], bbox[3]],\n",
    "        gdal_env=stackstac.DEFAULT_GDAL_ENV.updated(\n",
    "            {'GDAL_HTTP_MAX_RETRY': 3,\n",
    "             'GDAL_HTTP_RETRY_DELAY': 5,\n",
    "            }),\n",
    "        epsg=4326\n",
    "    ).rename({'x': 'lon', 'y': 'lat'})\n",
    "    \n",
    "    data_indices = sentinel_stack.sel(band=[\"scl\"]).to_dataset(dim='band')\n",
    "    return data_indices, sentinel_stack"
   ]
  },
  {
   "cell_type": "code",
   "execution_count": 9,
   "metadata": {},
   "outputs": [
    {
     "name": "stdout",
     "output_type": "stream",
     "text": [
      "1 scenes Sentinel-2 L2A trouvées dans l'intervalle temporel\n"
     ]
    },
    {
     "name": "stderr",
     "output_type": "stream",
     "text": [
      "c:\\Users\\oriane.bruyere\\AppData\\Local\\miniconda3\\envs\\gis311\\Lib\\site-packages\\stackstac\\prepare.py:408: UserWarning: The argument 'infer_datetime_format' is deprecated and will be removed in a future version. A strict version of it is now the default, see https://pandas.pydata.org/pdeps/0004-consistent-to-datetime-parsing.html. You can safely remove this argument.\n",
      "  times = pd.to_datetime(\n"
     ]
    },
    {
     "ename": "KeyboardInterrupt",
     "evalue": "",
     "output_type": "error",
     "traceback": [
      "\u001b[1;31m---------------------------------------------------------------------------\u001b[0m",
      "\u001b[1;31mKeyboardInterrupt\u001b[0m                         Traceback (most recent call last)",
      "Cell \u001b[1;32mIn[9], line 32\u001b[0m\n\u001b[0;32m     29\u001b[0m     partition[\u001b[38;5;124m'\u001b[39m\u001b[38;5;124mcloud_coverage\u001b[39m\u001b[38;5;124m'\u001b[39m] \u001b[38;5;241m=\u001b[39m cloud_coverage\n\u001b[0;32m     30\u001b[0m     \u001b[38;5;28;01mreturn\u001b[39;00m partition\n\u001b[1;32m---> 32\u001b[0m df\u001b[38;5;241m=\u001b[39m\u001b[43mprocess_partition\u001b[49m\u001b[43m(\u001b[49m\u001b[43mdata_cloud\u001b[49m\u001b[43m)\u001b[49m\n",
      "Cell \u001b[1;32mIn[9], line 20\u001b[0m, in \u001b[0;36mprocess_partition\u001b[1;34m(partition)\u001b[0m\n\u001b[0;32m     17\u001b[0m     selected_time_index \u001b[38;5;241m=\u001b[39m \u001b[38;5;28;01mNone\u001b[39;00m\n\u001b[0;32m     19\u001b[0m \u001b[38;5;28;01mif\u001b[39;00m selected_time_index \u001b[38;5;129;01mis\u001b[39;00m \u001b[38;5;129;01mnot\u001b[39;00m \u001b[38;5;28;01mNone\u001b[39;00m:\n\u001b[1;32m---> 20\u001b[0m     scl_data \u001b[38;5;241m=\u001b[39m \u001b[43msentinel_stack\u001b[49m\u001b[38;5;241;43m.\u001b[39;49m\u001b[43msel\u001b[49m\u001b[43m(\u001b[49m\u001b[43mtime\u001b[49m\u001b[38;5;241;43m=\u001b[39;49m\u001b[43mselected_time_index\u001b[49m\u001b[43m,\u001b[49m\u001b[43m \u001b[49m\u001b[43mband\u001b[49m\u001b[38;5;241;43m=\u001b[39;49m\u001b[38;5;124;43m\"\u001b[39;49m\u001b[38;5;124;43mscl\u001b[39;49m\u001b[38;5;124;43m\"\u001b[39;49m\u001b[43m)\u001b[49m\u001b[38;5;241;43m.\u001b[39;49m\u001b[43mvalues\u001b[49m\n\u001b[0;32m     21\u001b[0m     cloud_classes \u001b[38;5;241m=\u001b[39m [\u001b[38;5;241m3\u001b[39m, \u001b[38;5;241m8\u001b[39m, \u001b[38;5;241m9\u001b[39m, \u001b[38;5;241m10\u001b[39m, \u001b[38;5;241m11\u001b[39m]\n\u001b[0;32m     22\u001b[0m     cloud_mask \u001b[38;5;241m=\u001b[39m np\u001b[38;5;241m.\u001b[39misin(scl_data, cloud_classes)\n",
      "File \u001b[1;32mc:\\Users\\oriane.bruyere\\AppData\\Local\\miniconda3\\envs\\gis311\\Lib\\site-packages\\xarray\\core\\dataarray.py:785\u001b[0m, in \u001b[0;36mDataArray.values\u001b[1;34m(self)\u001b[0m\n\u001b[0;32m    772\u001b[0m \u001b[38;5;129m@property\u001b[39m\n\u001b[0;32m    773\u001b[0m \u001b[38;5;28;01mdef\u001b[39;00m \u001b[38;5;21mvalues\u001b[39m(\u001b[38;5;28mself\u001b[39m) \u001b[38;5;241m-\u001b[39m\u001b[38;5;241m>\u001b[39m np\u001b[38;5;241m.\u001b[39mndarray:\n\u001b[0;32m    774\u001b[0m \u001b[38;5;250m    \u001b[39m\u001b[38;5;124;03m\"\"\"\u001b[39;00m\n\u001b[0;32m    775\u001b[0m \u001b[38;5;124;03m    The array's data converted to numpy.ndarray.\u001b[39;00m\n\u001b[0;32m    776\u001b[0m \n\u001b[1;32m   (...)\u001b[0m\n\u001b[0;32m    783\u001b[0m \u001b[38;5;124;03m    to this array may be reflected in the DataArray as well.\u001b[39;00m\n\u001b[0;32m    784\u001b[0m \u001b[38;5;124;03m    \"\"\"\u001b[39;00m\n\u001b[1;32m--> 785\u001b[0m     \u001b[38;5;28;01mreturn\u001b[39;00m \u001b[38;5;28;43mself\u001b[39;49m\u001b[38;5;241;43m.\u001b[39;49m\u001b[43mvariable\u001b[49m\u001b[38;5;241;43m.\u001b[39;49m\u001b[43mvalues\u001b[49m\n",
      "File \u001b[1;32mc:\\Users\\oriane.bruyere\\AppData\\Local\\miniconda3\\envs\\gis311\\Lib\\site-packages\\xarray\\core\\variable.py:540\u001b[0m, in \u001b[0;36mVariable.values\u001b[1;34m(self)\u001b[0m\n\u001b[0;32m    537\u001b[0m \u001b[38;5;129m@property\u001b[39m\n\u001b[0;32m    538\u001b[0m \u001b[38;5;28;01mdef\u001b[39;00m \u001b[38;5;21mvalues\u001b[39m(\u001b[38;5;28mself\u001b[39m):\n\u001b[0;32m    539\u001b[0m \u001b[38;5;250m    \u001b[39m\u001b[38;5;124;03m\"\"\"The variable's data as a numpy.ndarray\"\"\"\u001b[39;00m\n\u001b[1;32m--> 540\u001b[0m     \u001b[38;5;28;01mreturn\u001b[39;00m \u001b[43m_as_array_or_item\u001b[49m\u001b[43m(\u001b[49m\u001b[38;5;28;43mself\u001b[39;49m\u001b[38;5;241;43m.\u001b[39;49m\u001b[43m_data\u001b[49m\u001b[43m)\u001b[49m\n",
      "File \u001b[1;32mc:\\Users\\oriane.bruyere\\AppData\\Local\\miniconda3\\envs\\gis311\\Lib\\site-packages\\xarray\\core\\variable.py:338\u001b[0m, in \u001b[0;36m_as_array_or_item\u001b[1;34m(data)\u001b[0m\n\u001b[0;32m    324\u001b[0m \u001b[38;5;28;01mdef\u001b[39;00m \u001b[38;5;21m_as_array_or_item\u001b[39m(data):\n\u001b[0;32m    325\u001b[0m \u001b[38;5;250m    \u001b[39m\u001b[38;5;124;03m\"\"\"Return the given values as a numpy array, or as an individual item if\u001b[39;00m\n\u001b[0;32m    326\u001b[0m \u001b[38;5;124;03m    it's a 0d datetime64 or timedelta64 array.\u001b[39;00m\n\u001b[0;32m    327\u001b[0m \n\u001b[1;32m   (...)\u001b[0m\n\u001b[0;32m    336\u001b[0m \u001b[38;5;124;03m    TODO: remove this (replace with np.asarray) once these issues are fixed\u001b[39;00m\n\u001b[0;32m    337\u001b[0m \u001b[38;5;124;03m    \"\"\"\u001b[39;00m\n\u001b[1;32m--> 338\u001b[0m     data \u001b[38;5;241m=\u001b[39m \u001b[43mnp\u001b[49m\u001b[38;5;241;43m.\u001b[39;49m\u001b[43masarray\u001b[49m\u001b[43m(\u001b[49m\u001b[43mdata\u001b[49m\u001b[43m)\u001b[49m\n\u001b[0;32m    339\u001b[0m     \u001b[38;5;28;01mif\u001b[39;00m data\u001b[38;5;241m.\u001b[39mndim \u001b[38;5;241m==\u001b[39m \u001b[38;5;241m0\u001b[39m:\n\u001b[0;32m    340\u001b[0m         \u001b[38;5;28;01mif\u001b[39;00m data\u001b[38;5;241m.\u001b[39mdtype\u001b[38;5;241m.\u001b[39mkind \u001b[38;5;241m==\u001b[39m \u001b[38;5;124m\"\u001b[39m\u001b[38;5;124mM\u001b[39m\u001b[38;5;124m\"\u001b[39m:\n",
      "File \u001b[1;32mc:\\Users\\oriane.bruyere\\AppData\\Local\\miniconda3\\envs\\gis311\\Lib\\site-packages\\dask\\array\\core.py:1700\u001b[0m, in \u001b[0;36mArray.__array__\u001b[1;34m(self, dtype, **kwargs)\u001b[0m\n\u001b[0;32m   1699\u001b[0m \u001b[38;5;28;01mdef\u001b[39;00m \u001b[38;5;21m__array__\u001b[39m(\u001b[38;5;28mself\u001b[39m, dtype\u001b[38;5;241m=\u001b[39m\u001b[38;5;28;01mNone\u001b[39;00m, \u001b[38;5;241m*\u001b[39m\u001b[38;5;241m*\u001b[39mkwargs):\n\u001b[1;32m-> 1700\u001b[0m     x \u001b[38;5;241m=\u001b[39m \u001b[38;5;28;43mself\u001b[39;49m\u001b[38;5;241;43m.\u001b[39;49m\u001b[43mcompute\u001b[49m\u001b[43m(\u001b[49m\u001b[43m)\u001b[49m\n\u001b[0;32m   1701\u001b[0m     \u001b[38;5;28;01mif\u001b[39;00m dtype \u001b[38;5;129;01mand\u001b[39;00m x\u001b[38;5;241m.\u001b[39mdtype \u001b[38;5;241m!=\u001b[39m dtype:\n\u001b[0;32m   1702\u001b[0m         x \u001b[38;5;241m=\u001b[39m x\u001b[38;5;241m.\u001b[39mastype(dtype)\n",
      "File \u001b[1;32mc:\\Users\\oriane.bruyere\\AppData\\Local\\miniconda3\\envs\\gis311\\Lib\\site-packages\\dask\\base.py:375\u001b[0m, in \u001b[0;36mDaskMethodsMixin.compute\u001b[1;34m(self, **kwargs)\u001b[0m\n\u001b[0;32m    351\u001b[0m \u001b[38;5;28;01mdef\u001b[39;00m \u001b[38;5;21mcompute\u001b[39m(\u001b[38;5;28mself\u001b[39m, \u001b[38;5;241m*\u001b[39m\u001b[38;5;241m*\u001b[39mkwargs):\n\u001b[0;32m    352\u001b[0m \u001b[38;5;250m    \u001b[39m\u001b[38;5;124;03m\"\"\"Compute this dask collection\u001b[39;00m\n\u001b[0;32m    353\u001b[0m \n\u001b[0;32m    354\u001b[0m \u001b[38;5;124;03m    This turns a lazy Dask collection into its in-memory equivalent.\u001b[39;00m\n\u001b[1;32m   (...)\u001b[0m\n\u001b[0;32m    373\u001b[0m \u001b[38;5;124;03m    dask.compute\u001b[39;00m\n\u001b[0;32m    374\u001b[0m \u001b[38;5;124;03m    \"\"\"\u001b[39;00m\n\u001b[1;32m--> 375\u001b[0m     (result,) \u001b[38;5;241m=\u001b[39m \u001b[43mcompute\u001b[49m\u001b[43m(\u001b[49m\u001b[38;5;28;43mself\u001b[39;49m\u001b[43m,\u001b[49m\u001b[43m \u001b[49m\u001b[43mtraverse\u001b[49m\u001b[38;5;241;43m=\u001b[39;49m\u001b[38;5;28;43;01mFalse\u001b[39;49;00m\u001b[43m,\u001b[49m\u001b[43m \u001b[49m\u001b[38;5;241;43m*\u001b[39;49m\u001b[38;5;241;43m*\u001b[39;49m\u001b[43mkwargs\u001b[49m\u001b[43m)\u001b[49m\n\u001b[0;32m    376\u001b[0m     \u001b[38;5;28;01mreturn\u001b[39;00m result\n",
      "File \u001b[1;32mc:\\Users\\oriane.bruyere\\AppData\\Local\\miniconda3\\envs\\gis311\\Lib\\site-packages\\dask\\base.py:661\u001b[0m, in \u001b[0;36mcompute\u001b[1;34m(traverse, optimize_graph, scheduler, get, *args, **kwargs)\u001b[0m\n\u001b[0;32m    658\u001b[0m     postcomputes\u001b[38;5;241m.\u001b[39mappend(x\u001b[38;5;241m.\u001b[39m__dask_postcompute__())\n\u001b[0;32m    660\u001b[0m \u001b[38;5;28;01mwith\u001b[39;00m shorten_traceback():\n\u001b[1;32m--> 661\u001b[0m     results \u001b[38;5;241m=\u001b[39m \u001b[43mschedule\u001b[49m\u001b[43m(\u001b[49m\u001b[43mdsk\u001b[49m\u001b[43m,\u001b[49m\u001b[43m \u001b[49m\u001b[43mkeys\u001b[49m\u001b[43m,\u001b[49m\u001b[43m \u001b[49m\u001b[38;5;241;43m*\u001b[39;49m\u001b[38;5;241;43m*\u001b[39;49m\u001b[43mkwargs\u001b[49m\u001b[43m)\u001b[49m\n\u001b[0;32m    663\u001b[0m \u001b[38;5;28;01mreturn\u001b[39;00m repack([f(r, \u001b[38;5;241m*\u001b[39ma) \u001b[38;5;28;01mfor\u001b[39;00m r, (f, a) \u001b[38;5;129;01min\u001b[39;00m \u001b[38;5;28mzip\u001b[39m(results, postcomputes)])\n",
      "File \u001b[1;32mc:\\Users\\oriane.bruyere\\AppData\\Local\\miniconda3\\envs\\gis311\\Lib\\threading.py:629\u001b[0m, in \u001b[0;36mEvent.wait\u001b[1;34m(self, timeout)\u001b[0m\n\u001b[0;32m    627\u001b[0m signaled \u001b[38;5;241m=\u001b[39m \u001b[38;5;28mself\u001b[39m\u001b[38;5;241m.\u001b[39m_flag\n\u001b[0;32m    628\u001b[0m \u001b[38;5;28;01mif\u001b[39;00m \u001b[38;5;129;01mnot\u001b[39;00m signaled:\n\u001b[1;32m--> 629\u001b[0m     signaled \u001b[38;5;241m=\u001b[39m \u001b[38;5;28;43mself\u001b[39;49m\u001b[38;5;241;43m.\u001b[39;49m\u001b[43m_cond\u001b[49m\u001b[38;5;241;43m.\u001b[39;49m\u001b[43mwait\u001b[49m\u001b[43m(\u001b[49m\u001b[43mtimeout\u001b[49m\u001b[43m)\u001b[49m\n\u001b[0;32m    630\u001b[0m \u001b[38;5;28;01mreturn\u001b[39;00m signaled\n",
      "File \u001b[1;32mc:\\Users\\oriane.bruyere\\AppData\\Local\\miniconda3\\envs\\gis311\\Lib\\threading.py:331\u001b[0m, in \u001b[0;36mCondition.wait\u001b[1;34m(self, timeout)\u001b[0m\n\u001b[0;32m    329\u001b[0m \u001b[38;5;28;01melse\u001b[39;00m:\n\u001b[0;32m    330\u001b[0m     \u001b[38;5;28;01mif\u001b[39;00m timeout \u001b[38;5;241m>\u001b[39m \u001b[38;5;241m0\u001b[39m:\n\u001b[1;32m--> 331\u001b[0m         gotit \u001b[38;5;241m=\u001b[39m \u001b[43mwaiter\u001b[49m\u001b[38;5;241;43m.\u001b[39;49m\u001b[43macquire\u001b[49m\u001b[43m(\u001b[49m\u001b[38;5;28;43;01mTrue\u001b[39;49;00m\u001b[43m,\u001b[49m\u001b[43m \u001b[49m\u001b[43mtimeout\u001b[49m\u001b[43m)\u001b[49m\n\u001b[0;32m    332\u001b[0m     \u001b[38;5;28;01melse\u001b[39;00m:\n\u001b[0;32m    333\u001b[0m         gotit \u001b[38;5;241m=\u001b[39m waiter\u001b[38;5;241m.\u001b[39macquire(\u001b[38;5;28;01mFalse\u001b[39;00m)\n",
      "\u001b[1;31mKeyboardInterrupt\u001b[0m: "
     ]
    }
   ],
   "source": [
    "def process_partition(partition):\n",
    "    row = partition.iloc[0]\n",
    "\n",
    "    date_ = pd.to_datetime(row['date_'], format='%Y-%m-%d').date()\n",
    "    bbox = row[\"geometry\"].bounds\n",
    "    datemin = date_.strftime('%Y-%m-%d')\n",
    "    datemax = (date_ + timedelta(days=1)).strftime('%Y-%m-%d')\n",
    "    dates = f'{datemin}/{datemax}'\n",
    "\n",
    "    data_indices, sentinel_stack = find_image_stac(bbox, dates)\n",
    "\n",
    "    if sentinel_stack is not None:\n",
    "        if 'time' in sentinel_stack.coords:\n",
    "            time_index = sentinel_stack.coords['time'].values\n",
    "            selected_time_index = time_index[0] if len(time_index) > 0 else None\n",
    "        else:\n",
    "            selected_time_index = None\n",
    "\n",
    "        if selected_time_index is not None:\n",
    "            scl_data = sentinel_stack.sel(time=selected_time_index, band=\"scl\").values\n",
    "            cloud_classes = [3, 8, 9, 10, 11]\n",
    "            cloud_mask = np.isin(scl_data, cloud_classes)\n",
    "\n",
    "            print(cloud_mask)\n",
    "            cloud_coverage = np.sum(cloud_mask) / scl_data.size\n",
    "        else:\n",
    "            cloud_coverage = np.nan  \n",
    "    else:\n",
    "        cloud_coverage = np.nan  \n",
    "\n",
    "    partition['cloud_coverage'] = cloud_coverage\n",
    "    return partition\n",
    "\n",
    "df=process_partition(data_cloud)\n"
   ]
  },
  {
   "cell_type": "code",
   "execution_count": null,
   "metadata": {},
   "outputs": [],
   "source": [
    "\n",
    "nb_line = len(data_cloud)\n",
    "offset = 0\n",
    "limit = 12\n",
    "\n",
    "results = []\n",
    "\n",
    "if offset >= 0 and limit > 0:\n",
    "    while offset < nb_line:\n",
    "        upper_bound = min(offset + limit, nb_line)\n",
    "        gdf_chunk = data_cloud.iloc[offset:upper_bound]\n",
    "\n",
    "        dask_gdf = dg.from_geopandas(gdf_chunk, npartitions=20)\n",
    "        \n",
    "        meta = gdf_chunk.iloc[:0].copy()\n",
    "        meta['cloud_coverage'] = np.nan\n",
    "\n",
    "        result = dask_gdf.map_partitions(process_partition, meta=meta)\n",
    "\n",
    "        result_computed = result.compute()\n",
    "        results.append(result_computed)\n",
    "\n",
    "        offset += limit\n",
    "\n",
    "result_combined = pd.concat(results)\n",
    "data_cloud = data_cloud.merge(result_combined[['geometry', 'cloud_coverage']], on='geometry', how='left')\n",
    "\n",
    "print(data_cloud)"
   ]
  },
  {
   "cell_type": "code",
   "execution_count": null,
   "metadata": {},
   "outputs": [],
   "source": [
    "final=data_cloud\n",
    "final.drop_duplicates(subset=['surface_id_h3'], inplace=True)\n",
    "\n",
    "upper_zero=final[final['cloud_coverage']> 0 ]\n",
    "upper_zero=upper_zero.reset_index(drop=True)\n",
    "surface_id_h3=upper_zero['surface_id_h3']"
   ]
  },
  {
   "cell_type": "code",
   "execution_count": 17,
   "metadata": {},
   "outputs": [],
   "source": [
    "from sqlalchemy import create_engine, text\n",
    "conex = create_engine(f'postgresql://{os.getenv(\"DB_USER\")}:{os.getenv(\"DB_PWD\")}@{os.getenv(\"DB_HOST\")}:{os.getenv(\"DB_PORT\")}/{os.getenv(\"DB_WORKSPACE\")}')\n",
    "sql_query = f\"DELETE FROM feux_cq.{table_source} WHERE surface_id_h3 = :surface_id\"\n",
    "\n",
    "with conex.begin() as conn:\n",
    "    for surface_id in surface_id_h3:\n",
    "        conn.execute(text(sql_query), {'surface_id': surface_id})"
   ]
  }
 ],
 "metadata": {
  "kernelspec": {
   "display_name": "gis311",
   "language": "python",
   "name": "python3"
  },
  "language_info": {
   "codemirror_mode": {
    "name": "ipython",
    "version": 3
   },
   "file_extension": ".py",
   "mimetype": "text/x-python",
   "name": "python",
   "nbconvert_exporter": "python",
   "pygments_lexer": "ipython3",
   "version": "3.11.8"
  }
 },
 "nbformat": 4,
 "nbformat_minor": 2
}
