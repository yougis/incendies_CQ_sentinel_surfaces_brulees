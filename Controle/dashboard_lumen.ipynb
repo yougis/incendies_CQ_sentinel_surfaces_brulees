{
 "cells": [
  {
   "cell_type": "code",
   "execution_count": 1,
   "metadata": {},
   "outputs": [
    {
     "data": {
      "text/plain": [
       "True"
      ]
     },
     "execution_count": 1,
     "metadata": {},
     "output_type": "execute_result"
    }
   ],
   "source": [
    "import logging\n",
    "from filecmp import dircmp\n",
    "from os import listdir\n",
    "import os\n",
    "import filecmp\n",
    "from dotenv import load_dotenv\n",
    "from intake import open_catalog\n",
    "import matplotlib as plt\n",
    "import pandas as pd\n",
    "import numpy as np\n",
    "from shapely import wkt\n",
    "import shapely\n",
    "from sqlalchemy import create_engine\n",
    "from shapely.geometry import shape\n",
    "from shapely.ops import unary_union\n",
    "from geopandas import GeoDataFrame\n",
    "import geopandas as gpd\n",
    "from datetime import datetime\n",
    "\n",
    "load_dotenv()"
   ]
  },
  {
   "cell_type": "code",
   "execution_count": 1,
   "metadata": {},
   "outputs": [
    {
     "ename": "SyntaxError",
     "evalue": "invalid syntax (3109780848.py, line 8)",
     "output_type": "error",
     "traceback": [
      "\u001b[1;36m  Cell \u001b[1;32mIn[1], line 8\u001b[1;36m\u001b[0m\n\u001b[1;33m    'table': feux_cq.\"sentinel_surfaces_detectees\"\u001b[0m\n\u001b[1;37m                     ^\u001b[0m\n\u001b[1;31mSyntaxError\u001b[0m\u001b[1;31m:\u001b[0m invalid syntax\n"
     ]
    }
   ],
   "source": [
    "import lumen as lm\n",
    "import panel as pn\n",
    "\n",
    "pn.extension('tabulator', design='material')\n",
    "\n",
    "pipeline = lm.Pipeline.from_spec({\n",
    "    'sources':{\n",
    "        'table': feux_cq.\"sentinel_surfaces_detectees\"\n",
    "        'uri: postgresql'://{{env(\"DB_USER\")}}:{{env(\"DB_PWD\")}}@{{env(\"DB_HOST\")}}:{{env(\"DB_PORT\")}}/{{env(\"DB_WORKSPACE\")}}\n",
    "        'description': Incendies Sentinel Detectees \n",
    "        'driver': intake_geopandas.geopandas.PostGISSource\n",
    "    }\n",
    "})\n",
    "\n",
    "sources:\n",
    "  ma_base_de_donnees:\n",
    "    description: \"Connexion à la base de données SQL pour le projet LUMENS\"\n",
    "    driver: \"postgresql\" # ou \"mysql\", \"sqlite\", etc., selon votre SGBD\n",
    "    host: \"adresse_serveur\" # L'adresse du serveur de la base de données\n",
    "    port: \"port\" # Le port de la base de données\n",
    "    database: \"nom_base_de_donnees\" # Le nom de la base de données\n",
    "    user: \"utilisateur\" # Le nom d'utilisateur pour la connexion\n",
    "    password: \"mot_de_passe\" # Le mot de passe pour la connexion\n",
    "    table: \"nom_table\" # Le nom de la table à interroger (optionnel si vous utilisez `query`)\n",
    "    query: |\n",
    "      SELECT * FROM nom_table\n",
    "      WHERE condition = 'valeur' # Une requête SQL spécifique pour extraire les données\n",
    "    parameters:\n",
    "      - name: \"parametre1\"\n",
    "        description: \"Description du paramètre 1\"\n",
    "        default: \"valeur_par_defaut\"\n",
    "      - name: \"parametre2\"\n",
    "        description: \"Description du paramètre 2\"\n",
    "        type: \"integer\"\n",
    "        default: 10"
   ]
  }
 ],
 "metadata": {
  "kernelspec": {
   "display_name": "gis311",
   "language": "python",
   "name": "python3"
  },
  "language_info": {
   "codemirror_mode": {
    "name": "ipython",
    "version": 3
   },
   "file_extension": ".py",
   "mimetype": "text/x-python",
   "name": "python",
   "nbconvert_exporter": "python",
   "pygments_lexer": "ipython3",
   "version": "3.11.8"
  }
 },
 "nbformat": 4,
 "nbformat_minor": 2
}
