{
 "cells": [
  {
   "cell_type": "code",
   "execution_count": 1,
   "metadata": {},
   "outputs": [
    {
     "name": "stdout",
     "output_type": "stream",
     "text": [
      "Overwriting .env\n"
     ]
    }
   ],
   "source": [
    "%%writefile \".env\"\n",
    "\n",
    "PROJECT_ID=\"feux_cq\"\n",
    "\n",
    "COMMUN_PATH = \"N:/\"\n",
    "PATH_INFOCENTRE_APP = ${COMMUN_PATH}Informatique/SIG/Application/Jupyterhub/\n",
    "PATH_ETUDE = ${COMMUN_PATH}Informatique/SIG/Donnees/Oeil/Traitement_Donnees/SURFACES_BRULEES_SENTINEL/2022/220502_PreparationFeu2020/\n",
    "PROJECT_PATH =${COMMUN_PATH}Informatique/SIG/Application/Jupyterhub/projets/catalogFiles/\n",
    "DATA_CATALOG_DIR = ${PATH_INFOCENTRE_APP}projets/catalogFiles/ \n",
    "DATA_OUTPUT_DIR = ${PROJECT_PATH}output/\n",
    "SIG_DATA_PATH = ${COMMUN_PATH}Informatique/SIG/Donnees/\n",
    "DB_USER=\"jfnguyenvansoc\"\n",
    "DB_PWD=\"oeil\"\n",
    "DB_HOST=\"172.20.12.13\"\n",
    "DB_PORT=5432\n",
    "\n",
    "DB_WORKSPACE=\"oeil_traitement\"\n",
    "DB_REF=\"oeil_reference\"\n",
    "DB_EXT=\"data_externe\"\n",
    "DB_SCHEMA = \"feux_cq\"\n",
    "DB_SCHEMA_REF = \"feux\""
   ]
  },
  {
   "cell_type": "code",
   "execution_count": 2,
   "metadata": {},
   "outputs": [],
   "source": [
    "import logging\n",
    "from filecmp import dircmp\n",
    "from os import listdir\n",
    "import os\n",
    "import filecmp\n",
    "from dotenv import load_dotenv\n",
    "from intake import open_catalog\n",
    "import matplotlib as plt\n",
    "import pandas as pd\n",
    "import numpy as np\n",
    "from shapely import wkt\n",
    "import shapely\n",
    "from sqlalchemy import create_engine\n",
    "from shapely.geometry import shape\n",
    "from shapely.ops import unary_union\n",
    "from geopandas import GeoDataFrame\n",
    "import geopandas as gpd\n",
    "from datetime import datetime\n",
    "import networkx as nx\n",
    "from shapely.geometry import MultiPolygon\n",
    "from dotenv import find_dotenv\n",
    "from tobler.util import h3fy\n",
    "import h3\n",
    "\n",
    "env_file = find_dotenv(\"N:\\Informatique\\SIG\\Etudes\\2023\\2309_QC_feux\\Travail\\Scripts\\CQ_sentinel_surfaces_brulees\\Controle\\.env\")\n",
    "load_dotenv()\n",
    "\n",
    "##open yaml file to get raw buned area table\n",
    "catfeux = open_catalog(f'{os.getenv(\"PROJECT_PATH\")}/data_reference_feux.yaml')\n",
    "\n",
    "surfaces_brulees_brute_control = catfeux.surfaces_brulees_brute_control.read()\n",
    "sentinel_surfaces_detectees_old = catfeux.sentinel_surfaces_detectees_old.read()"
   ]
  },
  {
   "cell_type": "code",
   "execution_count": 3,
   "metadata": {},
   "outputs": [],
   "source": [
    "H3_res = 15\n",
    "def geo_to_h3(row):\n",
    "  return h3.geo_to_h3(row.lat,row.lon,resolution = H3_res)"
   ]
  },
  {
   "cell_type": "code",
   "execution_count": 4,
   "metadata": {},
   "outputs": [
    {
     "name": "stderr",
     "output_type": "stream",
     "text": [
      "C:\\Users\\oriane.bruyere\\AppData\\Local\\Temp\\ipykernel_520\\259347313.py:4: UserWarning: Geometry is in a geographic CRS. Results from 'centroid' are likely incorrect. Use 'GeoSeries.to_crs()' to re-project geometries to a projected CRS before this operation.\n",
      "\n",
      "  gdf['centroides']=gdf['geometry'].centroid\n",
      "C:\\Users\\oriane.bruyere\\AppData\\Local\\Temp\\ipykernel_520\\259347313.py:13: FutureWarning: ChainedAssignmentError: behaviour will change in pandas 3.0!\n",
      "You are setting values through chained assignment. Currently this works in certain cases, but when using Copy-on-Write (which will become the default behaviour in pandas 3.0) this will never work to update the original DataFrame or Series, because the intermediate object on which we are setting values will behave as a copy.\n",
      "A typical example is when you are setting values in a column of a DataFrame, like:\n",
      "\n",
      "df[\"col\"][row_indexer] = value\n",
      "\n",
      "Use `df.loc[row_indexer, \"col\"] = values` instead, to perform the assignment in a single step and ensure this keeps updating the original `df`.\n",
      "\n",
      "See the caveats in the documentation: https://pandas.pydata.org/pandas-docs/stable/user_guide/indexing.html#returning-a-view-versus-a-copy\n",
      "\n",
      "  gdf['surface_id_h3'][i]=str(gdf['nom'][i][-10:])+\"_\"+str(gdf['date_texte'][i])+\"_\"+str(gdf['h3_id'][i])\n",
      "C:\\Users\\oriane.bruyere\\AppData\\Local\\Temp\\ipykernel_520\\259347313.py:13: SettingWithCopyWarning: \n",
      "A value is trying to be set on a copy of a slice from a DataFrame\n",
      "\n",
      "See the caveats in the documentation: https://pandas.pydata.org/pandas-docs/stable/user_guide/indexing.html#returning-a-view-versus-a-copy\n",
      "  gdf['surface_id_h3'][i]=str(gdf['nom'][i][-10:])+\"_\"+str(gdf['date_texte'][i])+\"_\"+str(gdf['h3_id'][i])\n",
      "C:\\Users\\oriane.bruyere\\AppData\\Local\\Temp\\ipykernel_520\\259347313.py:13: FutureWarning: Setting an item of incompatible dtype is deprecated and will raise an error in a future version of pandas. Value 'L2A_T58KDC_20231107_8f9f5e68e255b16' has dtype incompatible with int64, please explicitly cast to a compatible dtype first.\n",
      "  gdf['surface_id_h3'][i]=str(gdf['nom'][i][-10:])+\"_\"+str(gdf['date_texte'][i])+\"_\"+str(gdf['h3_id'][i])\n"
     ]
    }
   ],
   "source": [
    "gdf=sentinel_surfaces_detectees_old.to_crs(4326) ## change coordinates to WGS84\n",
    "gdf=gdf.set_crs(\"EPSG:4326\")\n",
    "\n",
    "gdf['centroides']=gdf['geometry'].centroid\n",
    "gdf['lon'] = gdf.centroides.x\n",
    "gdf['lat'] = gdf.centroides.y\n",
    "\n",
    "gdf['h3_id'] = gdf.apply(geo_to_h3,axis=1)\n",
    "gdf['date_texte'] = gdf['date_texte'].apply(lambda x: x[:-11] if len(x) > 8 else x)\n",
    "\n",
    "gdf['surface_id_h3']=0\n",
    "for i in range(len(gdf)):\n",
    "  gdf['surface_id_h3'][i]=str(gdf['nom'][i][-10:])+\"_\"+str(gdf['date_texte'][i])+\"_\"+str(gdf['h3_id'][i])\n",
    "\n",
    "gdf=gdf.to_crs(3163) ## change coordinates to RGNC\n",
    "sentinel_surfaces_detectees_old=gdf.set_crs(\"EPSG:3163\")"
   ]
  },
  {
   "cell_type": "code",
   "execution_count": 5,
   "metadata": {},
   "outputs": [],
   "source": [
    "surfaces_brulees_brute_control['date_']=pd.to_datetime(surfaces_brulees_brute_control['date_'])\n",
    "sentinel_surfaces_detectees_old['date_']=pd.to_datetime(sentinel_surfaces_detectees_old['date_'])"
   ]
  },
  {
   "cell_type": "code",
   "execution_count": 6,
   "metadata": {},
   "outputs": [],
   "source": [
    "result = pd.merge(surfaces_brulees_brute_control, sentinel_surfaces_detectees_old, on=['surface_id_h3'], how='inner')\n",
    "result=result.rename(columns={'nom_x':'nom',\"province_x\":\"province\"})"
   ]
  },
  {
   "cell_type": "code",
   "execution_count": 7,
   "metadata": {},
   "outputs": [],
   "source": [
    "result=result.drop(columns=['cuira_area','bdtopo','x_postgis','y_postgis','x','y','cuirasse','ogc_fid'])"
   ]
  },
  {
   "cell_type": "code",
   "execution_count": 8,
   "metadata": {},
   "outputs": [
    {
     "data": {
      "text/plain": [
       "0"
      ]
     },
     "execution_count": 8,
     "metadata": {},
     "output_type": "execute_result"
    }
   ],
   "source": [
    "result['surface_id'].isna().sum()"
   ]
  },
  {
   "cell_type": "code",
   "execution_count": 9,
   "metadata": {},
   "outputs": [],
   "source": [
    "gdf = gpd.GeoDataFrame(result.copy())\n",
    "gdf=gdf[[\"nom\", \"province\", \"commune_x\", \"surface_x\",\"date__x\",\"surface_id_h3\",\"surface_id\"]]"
   ]
  },
  {
   "cell_type": "code",
   "execution_count": 10,
   "metadata": {},
   "outputs": [],
   "source": [
    "duplicates = gdf.duplicated(subset='surface_id', keep=False)\n",
    "gdf = gdf[~duplicates]"
   ]
  },
  {
   "cell_type": "code",
   "execution_count": 11,
   "metadata": {},
   "outputs": [
    {
     "data": {
      "text/html": [
       "<div>\n",
       "<style scoped>\n",
       "    .dataframe tbody tr th:only-of-type {\n",
       "        vertical-align: middle;\n",
       "    }\n",
       "\n",
       "    .dataframe tbody tr th {\n",
       "        vertical-align: top;\n",
       "    }\n",
       "\n",
       "    .dataframe thead th {\n",
       "        text-align: right;\n",
       "    }\n",
       "</style>\n",
       "<table border=\"1\" class=\"dataframe\">\n",
       "  <thead>\n",
       "    <tr style=\"text-align: right;\">\n",
       "      <th></th>\n",
       "      <th>nom</th>\n",
       "      <th>province</th>\n",
       "      <th>commune_x</th>\n",
       "      <th>surface_x</th>\n",
       "      <th>date__x</th>\n",
       "      <th>surface_id_h3</th>\n",
       "      <th>surface_id</th>\n",
       "    </tr>\n",
       "  </thead>\n",
       "  <tbody>\n",
       "    <tr>\n",
       "      <th>0</th>\n",
       "      <td>SENTINEL2B_20230811_L2A_T58KEB</td>\n",
       "      <td>Province Nord</td>\n",
       "      <td>POINDIMIE</td>\n",
       "      <td>1.360932</td>\n",
       "      <td>2023-08-11</td>\n",
       "      <td>L2A_T58KEB_20230811_8f9f532516b69b1</td>\n",
       "      <td>798670</td>\n",
       "    </tr>\n",
       "    <tr>\n",
       "      <th>1</th>\n",
       "      <td>SENTINEL2B_20230910_L2A_T58KEB</td>\n",
       "      <td>Province Nord</td>\n",
       "      <td>PONERIHOUEN</td>\n",
       "      <td>1.410829</td>\n",
       "      <td>2023-09-10</td>\n",
       "      <td>L2A_T58KEB_20230910_8f9f53366ac2026</td>\n",
       "      <td>800677</td>\n",
       "    </tr>\n",
       "    <tr>\n",
       "      <th>2</th>\n",
       "      <td>SENTINEL2B_20230910_L2A_T58KEB</td>\n",
       "      <td>Province Nord</td>\n",
       "      <td>PONERIHOUEN</td>\n",
       "      <td>1.310771</td>\n",
       "      <td>2023-09-10</td>\n",
       "      <td>L2A_T58KEB_20230910_8f9f53360d9969d</td>\n",
       "      <td>800676</td>\n",
       "    </tr>\n",
       "    <tr>\n",
       "      <th>3</th>\n",
       "      <td>SENTINEL2A_20230806_L2A_T58KDB</td>\n",
       "      <td>Province Nord</td>\n",
       "      <td>KONE</td>\n",
       "      <td>1.290837</td>\n",
       "      <td>2023-08-06</td>\n",
       "      <td>L2A_T58KDB_20230806_8f9f5e548341a28</td>\n",
       "      <td>796853</td>\n",
       "    </tr>\n",
       "    <tr>\n",
       "      <th>4</th>\n",
       "      <td>SENTINEL2A_20231104_L2A_T58KDB</td>\n",
       "      <td>Province Nord</td>\n",
       "      <td>KONE</td>\n",
       "      <td>1.120727</td>\n",
       "      <td>2023-11-04</td>\n",
       "      <td>L2A_T58KDB_20231104_8f9f5e5418c4303</td>\n",
       "      <td>805790</td>\n",
       "    </tr>\n",
       "    <tr>\n",
       "      <th>...</th>\n",
       "      <td>...</td>\n",
       "      <td>...</td>\n",
       "      <td>...</td>\n",
       "      <td>...</td>\n",
       "      <td>...</td>\n",
       "      <td>...</td>\n",
       "      <td>...</td>\n",
       "    </tr>\n",
       "    <tr>\n",
       "      <th>17507</th>\n",
       "      <td>SENTINEL2B_20231129_L2A_T58KFA</td>\n",
       "      <td>Province Sud</td>\n",
       "      <td>MONT DORE</td>\n",
       "      <td>1.390126</td>\n",
       "      <td>2023-11-29</td>\n",
       "      <td>L2A_T58KFA_20231129_8f9f50b6561d0b1</td>\n",
       "      <td>807379</td>\n",
       "    </tr>\n",
       "    <tr>\n",
       "      <th>17508</th>\n",
       "      <td>SENTINEL2B_20231129_L2A_T58KFA</td>\n",
       "      <td>Province Sud</td>\n",
       "      <td>MONT DORE</td>\n",
       "      <td>14.031167</td>\n",
       "      <td>2023-11-29</td>\n",
       "      <td>L2A_T58KFA_20231129_8f9f50b60b0d534</td>\n",
       "      <td>807381</td>\n",
       "    </tr>\n",
       "    <tr>\n",
       "      <th>17509</th>\n",
       "      <td>SENTINEL2B_20231129_L2A_T58KFA</td>\n",
       "      <td>Province Sud</td>\n",
       "      <td>MONT DORE</td>\n",
       "      <td>1.470133</td>\n",
       "      <td>2023-11-29</td>\n",
       "      <td>L2A_T58KFA_20231129_8f9f50b65776575</td>\n",
       "      <td>807378</td>\n",
       "    </tr>\n",
       "    <tr>\n",
       "      <th>17510</th>\n",
       "      <td>SENTINEL2B_20231129_L2A_T58KFA</td>\n",
       "      <td>Province Sud</td>\n",
       "      <td>MONT DORE</td>\n",
       "      <td>2.000167</td>\n",
       "      <td>2023-11-29</td>\n",
       "      <td>L2A_T58KFA_20231129_8f9f50b65cd8384</td>\n",
       "      <td>807377</td>\n",
       "    </tr>\n",
       "    <tr>\n",
       "      <th>17511</th>\n",
       "      <td>SENTINEL2B_20231129_L2A_T58KFA</td>\n",
       "      <td>Province Sud</td>\n",
       "      <td>MONT DORE</td>\n",
       "      <td>1.099782</td>\n",
       "      <td>2023-11-29</td>\n",
       "      <td>L2A_T58KFA_20231129_8f9f5558c52212a</td>\n",
       "      <td>807375</td>\n",
       "    </tr>\n",
       "  </tbody>\n",
       "</table>\n",
       "<p>17512 rows × 7 columns</p>\n",
       "</div>"
      ],
      "text/plain": [
       "                                  nom       province    commune_x  surface_x  \\\n",
       "0      SENTINEL2B_20230811_L2A_T58KEB  Province Nord    POINDIMIE   1.360932   \n",
       "1      SENTINEL2B_20230910_L2A_T58KEB  Province Nord  PONERIHOUEN   1.410829   \n",
       "2      SENTINEL2B_20230910_L2A_T58KEB  Province Nord  PONERIHOUEN   1.310771   \n",
       "3      SENTINEL2A_20230806_L2A_T58KDB  Province Nord         KONE   1.290837   \n",
       "4      SENTINEL2A_20231104_L2A_T58KDB  Province Nord         KONE   1.120727   \n",
       "...                               ...            ...          ...        ...   \n",
       "17507  SENTINEL2B_20231129_L2A_T58KFA   Province Sud    MONT DORE   1.390126   \n",
       "17508  SENTINEL2B_20231129_L2A_T58KFA   Province Sud    MONT DORE  14.031167   \n",
       "17509  SENTINEL2B_20231129_L2A_T58KFA   Province Sud    MONT DORE   1.470133   \n",
       "17510  SENTINEL2B_20231129_L2A_T58KFA   Province Sud    MONT DORE   2.000167   \n",
       "17511  SENTINEL2B_20231129_L2A_T58KFA   Province Sud    MONT DORE   1.099782   \n",
       "\n",
       "         date__x                        surface_id_h3  surface_id  \n",
       "0     2023-08-11  L2A_T58KEB_20230811_8f9f532516b69b1      798670  \n",
       "1     2023-09-10  L2A_T58KEB_20230910_8f9f53366ac2026      800677  \n",
       "2     2023-09-10  L2A_T58KEB_20230910_8f9f53360d9969d      800676  \n",
       "3     2023-08-06  L2A_T58KDB_20230806_8f9f5e548341a28      796853  \n",
       "4     2023-11-04  L2A_T58KDB_20231104_8f9f5e5418c4303      805790  \n",
       "...          ...                                  ...         ...  \n",
       "17507 2023-11-29  L2A_T58KFA_20231129_8f9f50b6561d0b1      807379  \n",
       "17508 2023-11-29  L2A_T58KFA_20231129_8f9f50b60b0d534      807381  \n",
       "17509 2023-11-29  L2A_T58KFA_20231129_8f9f50b65776575      807378  \n",
       "17510 2023-11-29  L2A_T58KFA_20231129_8f9f50b65cd8384      807377  \n",
       "17511 2023-11-29  L2A_T58KFA_20231129_8f9f5558c52212a      807375  \n",
       "\n",
       "[17512 rows x 7 columns]"
      ]
     },
     "execution_count": 11,
     "metadata": {},
     "output_type": "execute_result"
    }
   ],
   "source": [
    "gdf"
   ]
  },
  {
   "cell_type": "code",
   "execution_count": 12,
   "metadata": {},
   "outputs": [
    {
     "data": {
      "text/plain": [
       "512"
      ]
     },
     "execution_count": 12,
     "metadata": {},
     "output_type": "execute_result"
    }
   ],
   "source": [
    "from sqlalchemy import text\n",
    "table = \"sentinel_surfaces_detectees_identifiants_informations\"\n",
    "\n",
    "conex = create_engine(f'postgresql://{os.getenv(\"DB_USER\")}:{os.getenv(\"DB_PWD\")}@{os.getenv(\"DB_HOST\")}:{os.getenv(\"DB_PORT\")}/{os.getenv(\"DB_WORKSPACE\")}')\n",
    "gdf.to_sql(table, conex,schema=os.getenv(\"DB_SCHEMA\"),if_exists='append')"
   ]
  }
 ],
 "metadata": {
  "kernelspec": {
   "display_name": "gis311",
   "language": "python",
   "name": "python3"
  },
  "language_info": {
   "codemirror_mode": {
    "name": "ipython",
    "version": 3
   },
   "file_extension": ".py",
   "mimetype": "text/x-python",
   "name": "python",
   "nbconvert_exporter": "python",
   "pygments_lexer": "ipython3",
   "version": "3.11.8"
  }
 },
 "nbformat": 4,
 "nbformat_minor": 2
}
