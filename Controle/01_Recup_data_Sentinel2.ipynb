{
 "cells": [
  {
   "cell_type": "code",
   "execution_count": 1,
   "metadata": {},
   "outputs": [
    {
     "name": "stdout",
     "output_type": "stream",
     "text": [
      "Overwriting .env\n"
     ]
    }
   ],
   "source": [
    "%%writefile \".env\"\n",
    "\n",
    "PROJECT_ID=\"feux_cq\"\n",
    "\n",
    "COMMUN_PATH = \"C:/\"\n",
    "PATH_INFOCENTRE_APP = ${COMMUN_PATH}Informatique/SIG/Application/Jupyterhub/\n",
    "PATH_ETUDE = ${COMMUN_PATH}Informatique/SIG/Donnees/Oeil/Traitement_Donnees/SURFACES_BRULEES_SENTINEL/2022/220502_PreparationFeu2020/\n",
    "PROJECT_PATH =${COMMUN_PATH}Users/oriane.bruyere/Documents/Projet_feux/Script/Step1_detection_error/\n",
    "DATA_CATALOG_DIR = ${PATH_INFOCENTRE_APP}projets/catalogFiles/ \n",
    "DATA_OUTPUT_DIR = ${PROJECT_PATH}output/\n",
    "SIG_DATA_PATH = ${COMMUN_PATH}Informatique/SIG/Donnees/\n",
    "DB_USER=\"jfnguyenvansoc\"\n",
    "DB_PWD=\"oeil\"\n",
    "DB_HOST=\"172.20.12.13\"\n",
    "DB_PORT=5432\n",
    "\n",
    "DB_WORKSPACE=\"oeil_traitement\"\n",
    "DB_REF=\"oeil_reference\"\n",
    "DB_EXT=\"data_externe\"\n",
    "DB_SCHEMA = \"feux_cq\"\n",
    "DB_SCHEMA_REF = \"feux\""
   ]
  },
  {
   "cell_type": "markdown",
   "metadata": {},
   "source": [
    "## Get missing burned areas files from INSIGHT server"
   ]
  },
  {
   "cell_type": "code",
   "execution_count": 2,
   "metadata": {},
   "outputs": [],
   "source": [
    "import logging\n",
    "from dotenv import load_dotenv\n",
    "from os import listdir\n",
    "import os\n",
    "import geopandas as gpd\n",
    "import pandas as pd\n",
    "import fiona\n",
    "from sqlalchemy import create_engine\n",
    "import h3\n",
    "from shapely.geometry import MultiPolygon\n",
    "from datetime import datetime\n",
    "\n",
    "load_dotenv()"
   ]
  },
  {
   "cell_type": "markdown",
   "metadata": {},
   "source": [
    "## Open gpkg and add data to POSTGIS"
   ]
  },
  {
   "cell_type": "code",
   "execution_count": 3,
   "metadata": {},
   "outputs": [],
   "source": [
    "DATA_TEMP ='A:/FEUX_INSIGHT/2023/'\n",
    "\n",
    "date_start=datetime(2023,12,1)\n",
    "date_end=datetime(2023,12,31)"
   ]
  },
  {
   "cell_type": "code",
   "execution_count": 4,
   "metadata": {},
   "outputs": [
    {
     "name": "stdout",
     "output_type": "stream",
     "text": [
      "Données fusionnées à partir des GeoPackages :\n"
     ]
    },
    {
     "name": "stderr",
     "output_type": "stream",
     "text": [
      "C:\\Users\\oriane.bruyere\\AppData\\Local\\Temp\\ipykernel_33548\\2024689450.py:28: FutureWarning: The behavior of DataFrame concatenation with empty or all-NA entries is deprecated. In a future version, this will no longer exclude empty or all-NA columns when determining the result dtypes. To retain the old behavior, exclude the relevant entries before the concat operation.\n",
      "  gdf = pd.concat(gdf_list, ignore_index=True, sort=False)\n"
     ]
    }
   ],
   "source": [
    "fichiers_geopackages = [f for f in os.listdir(DATA_TEMP) if f.endswith('.gpkg')]\n",
    "gdf_list = []\n",
    "\n",
    "for fichier_geopackage in fichiers_geopackages:\n",
    "    chemin_geopackage = os.path.join(DATA_TEMP, fichier_geopackage)\n",
    "    couches = fiona.listlayers(chemin_geopackage)\n",
    "\n",
    "    for couche in couches:\n",
    "        gdf_couches = gpd.read_file(chemin_geopackage, layer=couche, driver='GPKG')\n",
    "        \n",
    "        if 'date_' in gdf_couches.columns:\n",
    "            gdf_couches['date_']=pd.to_datetime(gdf_couches['date_'])\n",
    "            gdf_couches['date_']=gdf_couches['date_'].dt.date\n",
    "            gdf_couches['datetexte'] = gdf_couches['date_texte'].apply(lambda x: x[:-11] if len(x) > 8 else x)\n",
    "\n",
    "        elif 'date_texte' or 'date' in gdf_couches.columns:\n",
    "            gdf_couches.rename(columns={'date_texte': 'date_'}, inplace=True)\n",
    "            gdf_couches.rename(columns={'date': 'date_'}, inplace=True)\n",
    "            \n",
    "            gdf_couches['datetexte'] = gdf_couches['date_'].apply(lambda x: x[:-11] if len(x) > 8 else x)\n",
    "            gdf_couches['date_']=pd.to_datetime(gdf_couches['datetexte'])\n",
    "            gdf_couches['date_']=gdf_couches['date_'].dt.date\n",
    "\n",
    "    \n",
    "        gdf_couches['nom'] = gdf_couches['nom'].apply(lambda x: x[:19] + x[30:] if len(x) > 30 else x)\n",
    "        gdf_list.append(gdf_couches)\n",
    "\n",
    "gdf = pd.concat(gdf_list, ignore_index=True, sort=False)\n",
    "gdf=gdf.reset_index(drop=True)\n",
    "\n",
    "### filtre sur le data set\n",
    "gdf['date_']=pd.to_datetime(gdf['date_'])\n",
    "gdf=gdf.loc[(gdf['date_'] >= date_start) & (gdf['date_'] <= date_end)]\n",
    "gdf=gdf.reset_index(drop=True)\n",
    "\n",
    "print(\"Données fusionnées à partir des GeoPackages :\")"
   ]
  },
  {
   "cell_type": "markdown",
   "metadata": {},
   "source": [
    "### Convertir les surfaces detectees en type MULTIPOLYGONE"
   ]
  },
  {
   "cell_type": "code",
   "execution_count": 6,
   "metadata": {},
   "outputs": [
    {
     "name": "stdout",
     "output_type": "stream",
     "text": [
      "          date_                             nom           province  \\\n",
      "0    2023-12-01  SENTINEL2A_20231201_L2A_T58KHB  Province des Iles   \n",
      "1    2023-12-01  SENTINEL2A_20231201_L2A_T58KHB  Province des Iles   \n",
      "2    2023-12-01  SENTINEL2A_20231201_L2A_T58KHB  Province des Iles   \n",
      "3    2023-12-01  SENTINEL2A_20231201_L2A_T58KHB  Province des Iles   \n",
      "4    2023-12-01  SENTINEL2A_20231201_L2A_T58KHB  Province des Iles   \n",
      "...         ...                             ...                ...   \n",
      "3860 2023-12-29  SENTINEL2B_20231229_L2A_T58KEA       Province Sud   \n",
      "3861 2023-12-29  SENTINEL2B_20231229_L2A_T58KEA       Province Sud   \n",
      "3862 2023-12-29  SENTINEL2B_20231229_L2A_T58KEA       Province Sud   \n",
      "3863 2023-12-29  SENTINEL2B_20231229_L2A_T58KEA       Province Sud   \n",
      "3864 2023-12-29  SENTINEL2B_20231229_L2A_T58KEA       Province Sud   \n",
      "\n",
      "         commune   surface       x       y cuirasse  cuira_area bdtopo  \\\n",
      "0           MARE  1.277710  606724  302063     None         NaN   None   \n",
      "1           MARE  1.836848  601723  301391     None         NaN   None   \n",
      "2           MARE  2.136285  603243  298941     None         NaN   None   \n",
      "3           MARE  1.347403  615407  298660     None         NaN   None   \n",
      "4           MARE  1.008210  605623  298359     None         NaN   None   \n",
      "...          ...       ...     ...     ...      ...         ...    ...   \n",
      "3860  BOULOUPARI  1.020348  405091  258936     None         NaN   None   \n",
      "3861  BOULOUPARI  1.240500  397600  248631     None         NaN   None   \n",
      "3862  BOULOUPARI  1.440571  399745  247143     None         NaN   None   \n",
      "3863  BOULOUPARI  1.360542  399403  247088     None         NaN   None   \n",
      "3864  BOULOUPARI  1.840735  399770  246078     None         NaN   None   \n",
      "\n",
      "      bdtop_area                                           geometry datetexte  \\\n",
      "0            NaN  MULTIPOLYGON (((606650.031 302197.812, 606650....  20231201   \n",
      "1            NaN  MULTIPOLYGON (((601718.541 301526.860, 601718....  20231201   \n",
      "2            NaN  MULTIPOLYGON (((603282.964 299068.952, 603283....  20231201   \n",
      "3            NaN  MULTIPOLYGON (((615324.190 298756.485, 615324....  20231201   \n",
      "4            NaN  MULTIPOLYGON (((605645.072 298424.661, 605645....  20231201   \n",
      "...          ...                                                ...       ...   \n",
      "3860         NaN  MULTIPOLYGON (((405102.818 258992.340, 405102....  20231229   \n",
      "3861         NaN  MULTIPOLYGON (((397578.244 248711.185, 397578....  20231229   \n",
      "3862         NaN  MULTIPOLYGON (((399758.426 247225.087, 399758....  20231229   \n",
      "3863         NaN  MULTIPOLYGON (((399398.689 247172.726, 399398....  20231229   \n",
      "3864         NaN  MULTIPOLYGON (((399774.897 246234.976, 399774....  20231229   \n",
      "\n",
      "                                                  layer  \\\n",
      "0                                                   NaN   \n",
      "1                                                   NaN   \n",
      "2                                                   NaN   \n",
      "3                                                   NaN   \n",
      "4                                                   NaN   \n",
      "...                                                 ...   \n",
      "3860  FireDetection_SENTINEL2B_20231229-231234-962_L...   \n",
      "3861  FireDetection_SENTINEL2B_20231229-231234-962_L...   \n",
      "3862  FireDetection_SENTINEL2B_20231229-231234-962_L...   \n",
      "3863  FireDetection_SENTINEL2B_20231229-231234-962_L...   \n",
      "3864  FireDetection_SENTINEL2B_20231229-231234-962_L...   \n",
      "\n",
      "                                                   path  \n",
      "0                                                   NaN  \n",
      "1                                                   NaN  \n",
      "2                                                   NaN  \n",
      "3                                                   NaN  \n",
      "4                                                   NaN  \n",
      "...                                                 ...  \n",
      "3860  W:/FEUXV2/RESULTS/2023/FireDetection_SENTINEL2...  \n",
      "3861  W:/FEUXV2/RESULTS/2023/FireDetection_SENTINEL2...  \n",
      "3862  W:/FEUXV2/RESULTS/2023/FireDetection_SENTINEL2...  \n",
      "3863  W:/FEUXV2/RESULTS/2023/FireDetection_SENTINEL2...  \n",
      "3864  W:/FEUXV2/RESULTS/2023/FireDetection_SENTINEL2...  \n",
      "\n",
      "[3865 rows x 15 columns]\n"
     ]
    }
   ],
   "source": [
    "# Vérifier si la géométrie est de type Polygon\n",
    "if gdf['geometry'].geom_type[0] == 'Polygon':\n",
    "    gdf['geometry'] = gdf['geometry'].apply(lambda poly: MultiPolygon([poly]))\n",
    "\n",
    "    print(gdf)\n",
    "else:\n",
    "    print(\"La géométrie n'est pas de type Polygon.\")"
   ]
  },
  {
   "cell_type": "markdown",
   "metadata": {},
   "source": [
    "### Ajouter une identifiant H3 et créer un identifiant unique"
   ]
  },
  {
   "cell_type": "code",
   "execution_count": 7,
   "metadata": {},
   "outputs": [],
   "source": [
    "H3_res = 15\n",
    "def geo_to_h3(row):\n",
    "  return h3.geo_to_h3(row.lat,row.lon,resolution = H3_res)"
   ]
  },
  {
   "cell_type": "code",
   "execution_count": 8,
   "metadata": {},
   "outputs": [
    {
     "name": "stderr",
     "output_type": "stream",
     "text": [
      "C:\\Users\\oriane.bruyere\\AppData\\Local\\Temp\\ipykernel_33548\\1044648674.py:4: UserWarning: Geometry is in a geographic CRS. Results from 'centroid' are likely incorrect. Use 'GeoSeries.to_crs()' to re-project geometries to a projected CRS before this operation.\n",
      "\n",
      "  gdf['centroides']=gdf['geometry'].centroid\n",
      "C:\\Users\\oriane.bruyere\\AppData\\Local\\Temp\\ipykernel_33548\\1044648674.py:12: FutureWarning: ChainedAssignmentError: behaviour will change in pandas 3.0!\n",
      "You are setting values through chained assignment. Currently this works in certain cases, but when using Copy-on-Write (which will become the default behaviour in pandas 3.0) this will never work to update the original DataFrame or Series, because the intermediate object on which we are setting values will behave as a copy.\n",
      "A typical example is when you are setting values in a column of a DataFrame, like:\n",
      "\n",
      "df[\"col\"][row_indexer] = value\n",
      "\n",
      "Use `df.loc[row_indexer, \"col\"] = values` instead, to perform the assignment in a single step and ensure this keeps updating the original `df`.\n",
      "\n",
      "See the caveats in the documentation: https://pandas.pydata.org/pandas-docs/stable/user_guide/indexing.html#returning-a-view-versus-a-copy\n",
      "\n",
      "  gdf['surface_id_h3'][i]=str(gdf['nom'][i][-10:])+\"_\"+str(gdf['datetexte'][i])+\"_\"+str(gdf['h3_id'][i])\n",
      "C:\\Users\\oriane.bruyere\\AppData\\Local\\Temp\\ipykernel_33548\\1044648674.py:12: SettingWithCopyWarning: \n",
      "A value is trying to be set on a copy of a slice from a DataFrame\n",
      "\n",
      "See the caveats in the documentation: https://pandas.pydata.org/pandas-docs/stable/user_guide/indexing.html#returning-a-view-versus-a-copy\n",
      "  gdf['surface_id_h3'][i]=str(gdf['nom'][i][-10:])+\"_\"+str(gdf['datetexte'][i])+\"_\"+str(gdf['h3_id'][i])\n",
      "C:\\Users\\oriane.bruyere\\AppData\\Local\\Temp\\ipykernel_33548\\1044648674.py:12: FutureWarning: Setting an item of incompatible dtype is deprecated and will raise an error in a future version of pandas. Value 'L2A_T58KHB_20231201_8f9f568de683cf1' has dtype incompatible with int64, please explicitly cast to a compatible dtype first.\n",
      "  gdf['surface_id_h3'][i]=str(gdf['nom'][i][-10:])+\"_\"+str(gdf['datetexte'][i])+\"_\"+str(gdf['h3_id'][i])\n"
     ]
    }
   ],
   "source": [
    "gdf=gdf.to_crs(4326) ## change coordinates to WGS84\n",
    "gdf=gdf.set_crs(\"EPSG:4326\")\n",
    "\n",
    "gdf['centroides']=gdf['geometry'].centroid\n",
    "gdf['lon'] = gdf.centroides.x\n",
    "gdf['lat'] = gdf.centroides.y\n",
    "\n",
    "gdf['h3_id'] = gdf.apply(geo_to_h3,axis=1)\n",
    "\n",
    "gdf['surface_id_h3']=0\n",
    "for i in range(len(gdf)):\n",
    "  gdf['surface_id_h3'][i]=str(gdf['nom'][i][-10:])+\"_\"+str(gdf['datetexte'][i])+\"_\"+str(gdf['h3_id'][i])"
   ]
  },
  {
   "cell_type": "markdown",
   "metadata": {},
   "source": [
    "## Création de la base de donnée dans POSTGIS"
   ]
  },
  {
   "cell_type": "code",
   "execution_count": 9,
   "metadata": {},
   "outputs": [],
   "source": [
    "gdf = gpd.GeoDataFrame(gdf.copy(), crs=gdf.crs, geometry=gdf['geometry'])\n",
    "gdf=gdf.to_crs(3163) ## change coordinates to RGNC\n",
    "gdf=gdf.set_crs(\"EPSG:3163\")\n",
    "gdf=gdf[[\"nom\", \"province\", \"commune\", \"surface\", \"geometry\",\"date_\",\"surface_id_h3\"]]"
   ]
  },
  {
   "cell_type": "code",
   "execution_count": 10,
   "metadata": {},
   "outputs": [],
   "source": [
    "from sqlalchemy import text\n",
    "table = \"surfaces_brulees_brute_control\"\n",
    "\n",
    "conex = create_engine(f'postgresql://{os.getenv(\"DB_USER\")}:{os.getenv(\"DB_PWD\")}@{os.getenv(\"DB_HOST\")}:{os.getenv(\"DB_PORT\")}/{os.getenv(\"DB_WORKSPACE\")}')\n",
    "gdf.to_postgis(table, conex,schema=os.getenv(\"DB_SCHEMA\"),if_exists='append')"
   ]
  }
 ],
 "metadata": {
  "kernelspec": {
   "display_name": "gis39",
   "language": "python",
   "name": "python3"
  },
  "language_info": {
   "codemirror_mode": {
    "name": "ipython",
    "version": 3
   },
   "file_extension": ".py",
   "mimetype": "text/x-python",
   "name": "python",
   "nbconvert_exporter": "python",
   "pygments_lexer": "ipython3",
   "version": "3.11.8"
  },
  "orig_nbformat": 4
 },
 "nbformat": 4,
 "nbformat_minor": 2
}
