{
 "cells": [
  {
   "cell_type": "code",
   "execution_count": 1,
   "metadata": {},
   "outputs": [
    {
     "name": "stdout",
     "output_type": "stream",
     "text": [
      "Overwriting .env\n"
     ]
    }
   ],
   "source": [
    "%%writefile \".env\"\n",
    "\n",
    "PROJECT_ID=\"feux_cq\"\n",
    "\n",
    "COMMUN_PATH = \"C:/\"\n",
    "PATH_INFOCENTRE_APP = ${COMMUN_PATH}Informatique/SIG/Application/Jupyterhub/\n",
    "PATH_ETUDE = ${COMMUN_PATH}Informatique/SIG/Donnees/Oeil/Traitement_Donnees/SURFACES_BRULEES_SENTINEL/2022/220502_PreparationFeu2020/\n",
    "PROJECT_PATH =${COMMUN_PATH}Users/oriane.bruyere/Documents/Projet_feux/Script/Step1_detection_error/\n",
    "DATA_CATALOG_DIR = ${PATH_INFOCENTRE_APP}projets/catalogFiles/ \n",
    "DATA_OUTPUT_DIR = ${PROJECT_PATH}output/\n",
    "DATA_TEMP = N:/Secretariat/Etude/A_Activites/2023/I-1-3_Operer_suivi_incendies/LIVRABLES/temp/\n",
    "SIG_DATA_PATH = ${COMMUN_PATH}Informatique/SIG/Donnees/\n",
    "DB_USER=\"jfnguyenvansoc\"\n",
    "DB_PWD=\"oeil\"\n",
    "DB_HOST=\"172.20.12.13\"\n",
    "DB_PORT=5432\n",
    "\n",
    "DB_WORKSPACE=\"oeil_traitement\"\n",
    "DB_REF=\"oeil_reference\"\n",
    "DB_EXT=\"data_externe\"\n",
    "DB_SCHEMA = \"feux_cq\"\n",
    "DB_SCHEMA_REF = \"feux\""
   ]
  },
  {
   "cell_type": "markdown",
   "metadata": {},
   "source": [
    "## Get missing burned areas files from INSIGHT server"
   ]
  },
  {
   "cell_type": "code",
   "execution_count": 30,
   "metadata": {},
   "outputs": [],
   "source": [
    "import logging\n",
    "from dotenv import load_dotenv\n",
    "from filecmp import dircmp\n",
    "from os import listdir\n",
    "import os\n",
    "import filecmp\n",
    "import geopandas as gpd\n",
    "import pandas as pd\n",
    "import fiona\n",
    "from sqlalchemy import create_engine\n",
    "load_dotenv()\n",
    "import subprocess\n",
    "## Create log file \n",
    "logging.basicConfig(filename='C:/Users/oriane.bruyere/Documents/Projet_feux/Script/Step1_detection_error/example.log', encoding='utf-8', level=logging.INFO, force=True)\n",
    "\n",
    "##################################################\n",
    "## list every files from INSIGHT server repository\n",
    "##################################################\n",
    " \n",
    "#### choix des variable pour aller récupérer les fichiers sur le server\n",
    "\n",
    "month='01'\n",
    "year=2023\n",
    "\n",
    "%%bash\n",
    "rep_loc=\"/home/oriane.bruyere/MyDocuments/Projet_feux\"\n",
    "year=2023\n",
    "echo $year\n",
    "\n",
    "# Serveur distant\n",
    "server_user=\"oeil\"\n",
    "server_ip=\"192.168.13.43\"\n",
    "server_path=\"../../mnt/geo-storage/FEUXV2/RESULTS/\"$year\n",
    "file=\"FireDetection_SENTINEL2B_20230420-230233-196_L2A_T58KGA.gpkg\"\n",
    "\n",
    "sshpass -p '03il2023!?' scp $server_user@$server_ip:$server_path/$file $rep_loc\n",
    "\n",
    "# Vérification du statut de la commande scp\n",
    "if [ $? -eq 0 ]; then\n",
    "  echo \"Le fichier $file a été copié avec succès dans $rep_loc\"\n",
    "  else\n",
    "    echo \"Erreur lors de la copie du fichier $file depuis le serveur.\"\n",
    "    fi\n"
   ]
  },
  {
   "cell_type": "markdown",
   "metadata": {},
   "source": [
    "## Open gpkg and add data to POSTGIS"
   ]
  },
  {
   "cell_type": "code",
   "execution_count": 3,
   "metadata": {},
   "outputs": [
    {
     "name": "stdout",
     "output_type": "stream",
     "text": [
      "FireDetection_SENTINEL2X_AOUT_SEPT_OCT.gpkg\n",
      "FireDetection_SENTINEL2X_AVRIL-MAI-JUIN-JUILLET_2023.gpkg\n",
      "FireDetection_SENTINEL2_Decembre2023.gpkg\n",
      "FireDetection_SENTINEL2_FEVRIER-2023.gpkg\n",
      "FireDetection_SENTINEL2_JANVIER-2023.gpkg\n",
      "FireDetection_SENTINEL2_MARS-2023.gpkg\n",
      "FireDetection_SENTINEL2_Novembre2023.gpkg\n",
      "Données fusionnées à partir des GeoPackages :\n",
      "           date                                        nom       province  \\\n",
      "25880  20230101  SENTINEL2A_20230101-232202-326_L2A_T58KDC  Province Nord   \n",
      "25879  20230101  SENTINEL2A_20230101-232202-326_L2A_T58KDC  Province Nord   \n",
      "25881  20230101  SENTINEL2A_20230101-232202-326_L2A_T58KDC  Province Nord   \n",
      "25882  20230101  SENTINEL2A_20230101-232202-326_L2A_T58KDC  Province Nord   \n",
      "25883  20230101  SENTINEL2A_20230101-232202-326_L2A_T58KDC  Province Nord   \n",
      "...         ...                                        ...            ...   \n",
      "24387  20231231  SENTINEL2A_20231231-230228-192_L2A_T58KGA   Province Sud   \n",
      "24388  20231231  SENTINEL2A_20231231-230228-192_L2A_T58KGA   Province Sud   \n",
      "24389  20231231  SENTINEL2A_20231231-230228-192_L2A_T58KGA   Province Sud   \n",
      "24382  20231231  SENTINEL2A_20231231-230228-192_L2A_T58KGA   Province Sud   \n",
      "24390  20231231  SENTINEL2A_20231231-230228-192_L2A_T58KGA   Province Sud   \n",
      "\n",
      "            commune   surface       x       y cuirasse  cuira_area bdtopo  \\\n",
      "25880        POUEBO  1.221119  249183  423465      NaN         NaN    NaN   \n",
      "25879        OUEGOA  1.561495  233428  436165      NaN         NaN    NaN   \n",
      "25881        POUEBO  1.981800  249826  421880      NaN         NaN    NaN   \n",
      "25882        POUEBO  1.100996  249941  421203      NaN         NaN    NaN   \n",
      "25883        OUEGOA  1.931640  230088  420823      NaN         NaN    NaN   \n",
      "...             ...       ...     ...     ...      ...         ...    ...   \n",
      "24387  ILE DES PINS  2.818255  548848  179333      NaN         NaN    NaN   \n",
      "24388  ILE DES PINS  3.597799  548289  179273      NaN         NaN    NaN   \n",
      "24389  ILE DES PINS  1.479095  548391  179119      NaN         NaN    NaN   \n",
      "24382  ILE DES PINS  1.319185  547261  182487      NaN         NaN    NaN   \n",
      "24390  ILE DES PINS  2.328698  546907  173521      NaN         NaN    NaN   \n",
      "\n",
      "       bdtop_area layer path  \\\n",
      "25880         NaN   NaN  NaN   \n",
      "25879         NaN   NaN  NaN   \n",
      "25881         NaN   NaN  NaN   \n",
      "25882         NaN   NaN  NaN   \n",
      "25883         NaN   NaN  NaN   \n",
      "...           ...   ...  ...   \n",
      "24387         NaN   NaN  NaN   \n",
      "24388         NaN   NaN  NaN   \n",
      "24389         NaN   NaN  NaN   \n",
      "24382         NaN   NaN  NaN   \n",
      "24390         NaN   NaN  NaN   \n",
      "\n",
      "                                                geometry  \n",
      "25880  POLYGON ((249215.650 423586.246, 249215.781 42...  \n",
      "25879  POLYGON ((233394.382 436298.560, 233394.514 43...  \n",
      "25881  POLYGON ((249786.292 421999.216, 249786.423 42...  \n",
      "25882  POLYGON ((249960.681 421340.042, 249960.812 42...  \n",
      "25883  POLYGON ((230184.050 420960.118, 230184.181 42...  \n",
      "...                                                  ...  \n",
      "24387  POLYGON ((548800.269 179398.400, 548800.340 17...  \n",
      "24388  POLYGON ((548240.455 179394.396, 548240.527 17...  \n",
      "24389  POLYGON ((548251.811 179204.530, 548251.882 17...  \n",
      "24382  POLYGON ((547268.002 182576.552, 547268.073 18...  \n",
      "24390  POLYGON ((546842.185 173625.911, 546842.257 17...  \n",
      "\n",
      "[29231 rows x 14 columns]\n"
     ]
    }
   ],
   "source": [
    "fichiers_geopackages = [f for f in os.listdir(os.getenv(\"DATA_TEMP\")) if f.endswith('.gpkg')]\n",
    "#print(fichiers_geopackages)\n",
    "\n",
    "# Si moins de deux fichiers, il n'y a rien à fusionner\n",
    "\n",
    "if len(fichiers_geopackages) < 2:\n",
    "    print(\"Moins de deux fichiers GeoPackage dans le répertoire. Aucune fusion nécessaire.\")\n",
    "    for fichier_geopackage in fichiers_geopackages:\n",
    "        chemin_geopackage = os.path.join(os.getenv(\"DATA_TEMP\"), fichier_geopackage)\n",
    "        gdf = gpd.read_file(chemin_geopackage)\n",
    "        gdf['date']=[x[:-11] for x in gdf['date']]\n",
    "        print(gdf)\n",
    "else:\n",
    "    # Lire chaque GeoPackage et concaténer les GeoDataFrames\n",
    "    gdf = gpd.GeoDataFrame()\n",
    "    for chemin_fichier in fichiers_geopackages:\n",
    "        print(chemin_fichier)\n",
    "        chemin_geopackage = os.path.join(os.getenv(\"DATA_TEMP\"), chemin_fichier)\n",
    "        couches = fiona.listlayers(chemin_geopackage)\n",
    "\n",
    "        for couche in couches:\n",
    "            geo_df_couches = gpd.read_file(chemin_geopackage, layer=couche, driver='GPKG')\n",
    "            # Concatène les couches au GeoDataFrame global\n",
    "            gdf = pd.concat([gdf, geo_df_couches], ignore_index=True, sort=False)\n",
    " \n",
    "    gdf['date']=[x[:-11] for x in gdf['date']]\n",
    "    gdf.sort_values(['date'], ascending=[True], inplace=True) ### ordre chronologique et par commune\n",
    "    print(\"Données fusionnées à partir des GeoPackages :\")\n",
    "    print(gdf)"
   ]
  },
  {
   "cell_type": "markdown",
   "metadata": {},
   "source": [
    "## Convertir les surfaces detectees en type MULTIPOLYGONE"
   ]
  },
  {
   "cell_type": "code",
   "execution_count": 4,
   "metadata": {},
   "outputs": [
    {
     "name": "stdout",
     "output_type": "stream",
     "text": [
      "           date                                        nom       province  \\\n",
      "25880  20230101  SENTINEL2A_20230101-232202-326_L2A_T58KDC  Province Nord   \n",
      "25879  20230101  SENTINEL2A_20230101-232202-326_L2A_T58KDC  Province Nord   \n",
      "25881  20230101  SENTINEL2A_20230101-232202-326_L2A_T58KDC  Province Nord   \n",
      "25882  20230101  SENTINEL2A_20230101-232202-326_L2A_T58KDC  Province Nord   \n",
      "25883  20230101  SENTINEL2A_20230101-232202-326_L2A_T58KDC  Province Nord   \n",
      "...         ...                                        ...            ...   \n",
      "24387  20231231  SENTINEL2A_20231231-230228-192_L2A_T58KGA   Province Sud   \n",
      "24388  20231231  SENTINEL2A_20231231-230228-192_L2A_T58KGA   Province Sud   \n",
      "24389  20231231  SENTINEL2A_20231231-230228-192_L2A_T58KGA   Province Sud   \n",
      "24382  20231231  SENTINEL2A_20231231-230228-192_L2A_T58KGA   Province Sud   \n",
      "24390  20231231  SENTINEL2A_20231231-230228-192_L2A_T58KGA   Province Sud   \n",
      "\n",
      "            commune   surface       x       y cuirasse  cuira_area bdtopo  \\\n",
      "25880        POUEBO  1.221119  249183  423465      NaN         NaN    NaN   \n",
      "25879        OUEGOA  1.561495  233428  436165      NaN         NaN    NaN   \n",
      "25881        POUEBO  1.981800  249826  421880      NaN         NaN    NaN   \n",
      "25882        POUEBO  1.100996  249941  421203      NaN         NaN    NaN   \n",
      "25883        OUEGOA  1.931640  230088  420823      NaN         NaN    NaN   \n",
      "...             ...       ...     ...     ...      ...         ...    ...   \n",
      "24387  ILE DES PINS  2.818255  548848  179333      NaN         NaN    NaN   \n",
      "24388  ILE DES PINS  3.597799  548289  179273      NaN         NaN    NaN   \n",
      "24389  ILE DES PINS  1.479095  548391  179119      NaN         NaN    NaN   \n",
      "24382  ILE DES PINS  1.319185  547261  182487      NaN         NaN    NaN   \n",
      "24390  ILE DES PINS  2.328698  546907  173521      NaN         NaN    NaN   \n",
      "\n",
      "       bdtop_area layer path  \\\n",
      "25880         NaN   NaN  NaN   \n",
      "25879         NaN   NaN  NaN   \n",
      "25881         NaN   NaN  NaN   \n",
      "25882         NaN   NaN  NaN   \n",
      "25883         NaN   NaN  NaN   \n",
      "...           ...   ...  ...   \n",
      "24387         NaN   NaN  NaN   \n",
      "24388         NaN   NaN  NaN   \n",
      "24389         NaN   NaN  NaN   \n",
      "24382         NaN   NaN  NaN   \n",
      "24390         NaN   NaN  NaN   \n",
      "\n",
      "                                                geometry  \n",
      "25880  MULTIPOLYGON (((249215.650 423586.246, 249215....  \n",
      "25879  MULTIPOLYGON (((233394.382 436298.560, 233394....  \n",
      "25881  MULTIPOLYGON (((249786.292 421999.216, 249786....  \n",
      "25882  MULTIPOLYGON (((249960.681 421340.042, 249960....  \n",
      "25883  MULTIPOLYGON (((230184.050 420960.118, 230184....  \n",
      "...                                                  ...  \n",
      "24387  MULTIPOLYGON (((548800.269 179398.400, 548800....  \n",
      "24388  MULTIPOLYGON (((548240.455 179394.396, 548240....  \n",
      "24389  MULTIPOLYGON (((548251.811 179204.530, 548251....  \n",
      "24382  MULTIPOLYGON (((547268.002 182576.552, 547268....  \n",
      "24390  MULTIPOLYGON (((546842.185 173625.911, 546842....  \n",
      "\n",
      "[29231 rows x 14 columns]\n"
     ]
    }
   ],
   "source": [
    "from shapely.geometry import MultiPolygon\n",
    "\n",
    "# Vérifier si la géométrie est de type Polygon\n",
    "if gdf['geometry'].geom_type[0] == 'Polygon':\n",
    "    gdf['geometry'] = gdf['geometry'].apply(lambda poly: MultiPolygon([poly]))\n",
    "\n",
    "    print(gdf)\n",
    "else:\n",
    "    print(\"La géométrie n'est pas de type Polygon.\")"
   ]
  },
  {
   "cell_type": "markdown",
   "metadata": {},
   "source": [
    "## Création de la base de donnée dans POSTGIS"
   ]
  },
  {
   "cell_type": "code",
   "execution_count": 5,
   "metadata": {},
   "outputs": [],
   "source": [
    "def ClePrimaire(curseur, schema, table, colonne):\n",
    "    sql = \" ALTER TABLE \" + schema + \".\" + table  + \" ADD CONSTRAINT \" + table + \"_\" + colonne + \"_seq PRIMARY KEY(\" + colonne + \");\"\n",
    "    curseur.execute(sql)"
   ]
  },
  {
   "cell_type": "code",
   "execution_count": 6,
   "metadata": {},
   "outputs": [],
   "source": [
    "conex = create_engine(f'postgresql://{os.getenv(\"DB_USER\")}:{os.getenv(\"DB_PWD\")}@{os.getenv(\"DB_HOST\")}:{os.getenv(\"DB_PORT\")}/{os.getenv(\"DB_WORKSPACE\")}')\n",
    "gdf.to_postgis(\"surfaces_brulees_brute_control\", conex,schema=os.getenv(\"DB_SCHEMA\"),if_exists='replace')"
   ]
  }
 ],
 "metadata": {
  "kernelspec": {
   "display_name": "gis39",
   "language": "python",
   "name": "python3"
  },
  "language_info": {
   "codemirror_mode": {
    "name": "ipython",
    "version": 3
   },
   "file_extension": ".py",
   "mimetype": "text/x-python",
   "name": "python",
   "nbconvert_exporter": "python",
   "pygments_lexer": "ipython3",
   "version": "3.9.15"
  },
  "orig_nbformat": 4
 },
 "nbformat": 4,
 "nbformat_minor": 2
}
