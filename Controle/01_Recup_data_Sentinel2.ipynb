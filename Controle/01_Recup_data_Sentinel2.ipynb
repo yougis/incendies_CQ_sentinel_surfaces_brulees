{
 "cells": [
  {
   "cell_type": "code",
   "execution_count": 1,
   "metadata": {},
   "outputs": [
    {
     "name": "stdout",
     "output_type": "stream",
     "text": [
      "Overwriting .env\n"
     ]
    }
   ],
   "source": [
    "%%writefile \".env\"\n",
    "\n",
    "PROJECT_ID=\"feux_cq\"\n",
    "\n",
    "COMMUN_PATH = \"C:/\"\n",
    "PATH_INFOCENTRE_APP = ${COMMUN_PATH}Informatique/SIG/Application/Jupyterhub/\n",
    "PATH_ETUDE = ${COMMUN_PATH}Informatique/SIG/Donnees/Oeil/Traitement_Donnees/SURFACES_BRULEES_SENTINEL/2022/220502_PreparationFeu2020/\n",
    "PROJECT_PATH =${COMMUN_PATH}Users/oriane.bruyere/Documents/Projet_feux/Script/Step1_detection_error/\n",
    "DATA_CATALOG_DIR = ${PATH_INFOCENTRE_APP}projets/catalogFiles/ \n",
    "DATA_OUTPUT_DIR = ${PROJECT_PATH}output/\n",
    "SIG_DATA_PATH = ${COMMUN_PATH}Informatique/SIG/Donnees/\n",
    "DB_USER=\"jfnguyenvansoc\"\n",
    "DB_PWD=\"oeil\"\n",
    "DB_HOST=\"172.20.12.13\"\n",
    "DB_PORT=5432\n",
    "\n",
    "DB_WORKSPACE=\"oeil_traitement\"\n",
    "DB_REF=\"oeil_reference\"\n",
    "DB_EXT=\"data_externe\"\n",
    "DB_SCHEMA = \"feux_cq\"\n",
    "DB_SCHEMA_REF = \"feux\""
   ]
  },
  {
   "cell_type": "markdown",
   "metadata": {},
   "source": [
    "## Get missing burned areas files from INSIGHT server"
   ]
  },
  {
   "cell_type": "code",
   "execution_count": 2,
   "metadata": {},
   "outputs": [],
   "source": [
    "import logging\n",
    "from dotenv import load_dotenv\n",
    "from filecmp import dircmp\n",
    "from os import listdir\n",
    "import os\n",
    "import filecmp\n",
    "import geopandas as gpd\n",
    "import pandas as pd\n",
    "import fiona\n",
    "from sqlalchemy import create_engine\n",
    "load_dotenv()\n",
    "import subprocess"
   ]
  },
  {
   "cell_type": "markdown",
   "metadata": {},
   "source": [
    "## Open gpkg and add data to POSTGIS"
   ]
  },
  {
   "cell_type": "code",
   "execution_count": 3,
   "metadata": {},
   "outputs": [],
   "source": [
    "DATA_TEMP ='A:/FEUX_INSIGHT/2017/'\n",
    "#DATA_TEMP ='C:/Users/oriane.bruyere/Documents/file_feux/2020/'"
   ]
  },
  {
   "cell_type": "code",
   "execution_count": 4,
   "metadata": {},
   "outputs": [
    {
     "name": "stdout",
     "output_type": "stream",
     "text": [
      "Données fusionnées à partir des GeoPackages :\n",
      "           date                             nom       province commune  \\\n",
      "0      20200119  SENTINEL2x_20200119_L2A_T58KFA   Province Sud   PAITA   \n",
      "1      20200104  SENTINEL2x_20200104_L2A_T58KFA   Province Sud   PAITA   \n",
      "2      20200119  SENTINEL2x_20200119_L2A_T58KFA   Province Sud   PAITA   \n",
      "3      20200119  SENTINEL2x_20200119_L2A_T58KFA   Province Sud    YATE   \n",
      "4      20200119  SENTINEL2x_20200119_L2A_T58KFA   Province Sud    YATE   \n",
      "...         ...                             ...            ...     ...   \n",
      "24607  20200223  SENTINEL2x_20200223_L2A_T58KFA   Province Sud   PAITA   \n",
      "24608  20200223  SENTINEL2x_20200223_L2A_T58KFA   Province Sud   PAITA   \n",
      "24609  20200223  SENTINEL2x_20200223_L2A_T58KFA   Province Sud   PAITA   \n",
      "24610  20200223  SENTINEL2x_20200223_L2A_T58KFA   Province Sud  DUMBEA   \n",
      "24611  20200223  SENTINEL2x_20200223_L2A_T58KFB  Province Nord  CANALA   \n",
      "\n",
      "        surface       x       y cuirasse  cuira_area    bdtopo  bdtop_area  \\\n",
      "0      4.691785  409543  234894     None         NaN    ROCHER         7.0   \n",
      "1      2.090794  409634  234940     None         NaN    ROCHER         8.0   \n",
      "2      4.911706  414234  236904     None         NaN     PLAGE         3.0   \n",
      "3      2.859959  468779  228334     None         NaN   BORDMAR        99.0   \n",
      "4      1.199992  467684  228756     None         NaN   BORDMAR       100.0   \n",
      "...         ...     ...     ...      ...         ...       ...         ...   \n",
      "24607  2.040775  409628  234940     None         NaN    ROCHER        10.0   \n",
      "24608  1.370331  436600  226203     None         NaN  BORDETAN         1.0   \n",
      "24609  1.640355  440374  225860     None         NaN   BATIDUR        28.0   \n",
      "24610  2.530492  445708  221562     None         NaN      None         NaN   \n",
      "24611  1.130369  399729  303091     None         NaN      None         NaN   \n",
      "\n",
      "                                                geometry layer path  \n",
      "0      MULTIPOLYGON (((409650.494 235027.289, 409670....   NaN  NaN  \n",
      "1      MULTIPOLYGON (((409590.616 235006.891, 409600....   NaN  NaN  \n",
      "2      MULTIPOLYGON (((414138.251 237027.218, 414218....   NaN  NaN  \n",
      "3      MULTIPOLYGON (((468681.151 228468.377, 468711....   NaN  NaN  \n",
      "4      MULTIPOLYGON (((467688.632 228841.733, 467708....   NaN  NaN  \n",
      "...                                                  ...   ...  ...  \n",
      "24607  MULTIPOLYGON (((409710.570 235017.682, 409720....   NaN  NaN  \n",
      "24608  MULTIPOLYGON (((436553.258 226263.655, 436603....   NaN  NaN  \n",
      "24609  MULTIPOLYGON (((440275.933 225938.389, 440305....   NaN  NaN  \n",
      "24610  MULTIPOLYGON (((445724.868 221704.221, 445744....   NaN  NaN  \n",
      "24611  MULTIPOLYGON (((399726.825 303205.798, 399736....   NaN  NaN  \n",
      "\n",
      "[24612 rows x 14 columns]\n"
     ]
    },
    {
     "name": "stderr",
     "output_type": "stream",
     "text": [
      "C:\\Users\\oriane.bruyere\\AppData\\Local\\Temp\\ipykernel_5116\\1094699821.py:19: FutureWarning: The behavior of DataFrame concatenation with empty or all-NA entries is deprecated. In a future version, this will no longer exclude empty or all-NA columns when determining the result dtypes. To retain the old behavior, exclude the relevant entries before the concat operation.\n",
      "  gdf = pd.concat(gdf_list, ignore_index=True, sort=False)\n"
     ]
    }
   ],
   "source": [
    "fichiers_geopackages = [f for f in os.listdir(DATA_TEMP) if f.endswith('.gpkg')]\n",
    "gdf_list = []\n",
    "\n",
    "for fichier_geopackage in fichiers_geopackages:\n",
    "    chemin_geopackage = os.path.join(DATA_TEMP, fichier_geopackage)\n",
    "    couches = fiona.listlayers(chemin_geopackage)\n",
    "\n",
    "    for couche in couches:\n",
    "        gdf_couches = gpd.read_file(chemin_geopackage, layer=couche, driver='GPKG')\n",
    "        \n",
    "        if 'date_texte' in gdf_couches.columns:\n",
    "            gdf_couches.rename(columns={'date_texte': 'date'}, inplace=True)\n",
    "\n",
    "        gdf_couches['date'] = gdf_couches['date'].apply(lambda x: x[:-11] if len(x) > 8 else x)\n",
    "        gdf_couches['nom'] = gdf_couches['nom'].apply(lambda x: x[:19] + x[30:] if len(x) > 30 else x)\n",
    "        \n",
    "        gdf_list.append(gdf_couches)\n",
    "\n",
    "gdf = pd.concat(gdf_list, ignore_index=True, sort=False)\n",
    "gdf=gdf.reset_index(drop=True)\n",
    "\n",
    "print(\"Données fusionnées à partir des GeoPackages :\")\n",
    "print(gdf)"
   ]
  },
  {
   "cell_type": "markdown",
   "metadata": {},
   "source": [
    "## Convertir les surfaces detectees en type MULTIPOLYGONE"
   ]
  },
  {
   "cell_type": "code",
   "execution_count": 5,
   "metadata": {},
   "outputs": [
    {
     "name": "stdout",
     "output_type": "stream",
     "text": [
      "La géométrie n'est pas de type Polygon.\n"
     ]
    }
   ],
   "source": [
    "from shapely.geometry import MultiPolygon\n",
    "\n",
    "# Vérifier si la géométrie est de type Polygon\n",
    "if gdf['geometry'].geom_type[0] == 'Polygon':\n",
    "    gdf['geometry'] = gdf['geometry'].apply(lambda poly: MultiPolygon([poly]))\n",
    "\n",
    "    print(gdf)\n",
    "else:\n",
    "    print(\"La géométrie n'est pas de type Polygon.\")"
   ]
  },
  {
   "cell_type": "markdown",
   "metadata": {},
   "source": [
    "## Création de la base de donnée dans POSTGIS"
   ]
  },
  {
   "cell_type": "code",
   "execution_count": 6,
   "metadata": {},
   "outputs": [],
   "source": [
    "gdf = gpd.GeoDataFrame(gdf.copy(), crs=gdf.crs, geometry=gdf['geometry'])\n",
    "gdf=gdf[[\"nom\", \"province\", \"commune\", \"surface\", \"geometry\",\"date\"]]"
   ]
  },
  {
   "cell_type": "code",
   "execution_count": 7,
   "metadata": {},
   "outputs": [],
   "source": [
    "from sqlalchemy import text\n",
    "table = \"surfaces_brulees_brute_control\"\n",
    "\n",
    "conex = create_engine(f'postgresql://{os.getenv(\"DB_USER\")}:{os.getenv(\"DB_PWD\")}@{os.getenv(\"DB_HOST\")}:{os.getenv(\"DB_PORT\")}/{os.getenv(\"DB_WORKSPACE\")}')\n",
    "gdf.to_postgis(table, conex,schema=os.getenv(\"DB_SCHEMA\"),if_exists='append')"
   ]
  }
 ],
 "metadata": {
  "kernelspec": {
   "display_name": "gis39",
   "language": "python",
   "name": "python3"
  },
  "language_info": {
   "codemirror_mode": {
    "name": "ipython",
    "version": 3
   },
   "file_extension": ".py",
   "mimetype": "text/x-python",
   "name": "python",
   "nbconvert_exporter": "python",
   "pygments_lexer": "ipython3",
   "version": "3.11.8"
  },
  "orig_nbformat": 4
 },
 "nbformat": 4,
 "nbformat_minor": 2
}
