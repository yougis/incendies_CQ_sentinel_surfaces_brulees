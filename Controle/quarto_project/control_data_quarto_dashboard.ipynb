{
  "cells": [
    {
      "cell_type": "raw",
      "metadata": {},
      "source": [
        "---\n",
        "title: Contrôle des données en sortie de chaine INSIGHT\n",
        "lang: fr\n",
        "date: today\n",
        "date-format: \"MMMM YYYY\"\n",
        "editeur: \"Editeur : OEIL.\"\n",
        "license: \"CC BY\"\n",
        "citation: True\n",
        "keep-tex: true\n",
        "logo: \"img/OEIL_logo.png\" #logo de l'oeil\n",
        "image_font_1: \"img/feux1.jpg\" #image de fond numéro 1\n",
        "image_font_2: \"img/feux2.png\" #image 2 supérieure\n",
        "format: dashboard\n",
        "\n",
        "execute:\n",
        "  echo: false\n",
        "\n",
        "---"
      ],
      "id": "a715bfe5"
    },
    {
      "cell_type": "code",
      "metadata": {},
      "source": [
        "year=2023\n",
        "from dotenv import load_dotenv\n",
        "import matplotlib.pyplot as plt\n",
        "from intake import open_catalog\n",
        "import pandas as pd\n",
        "from IPython.display import display, Latex, Markdown\n",
        "from tabulate import tabulate\n",
        "import datetime as dt\n",
        "import geopandas as gpd\n",
        "import holoviews as hv\n",
        "from holoviews import opts\n",
        "load_dotenv()\n",
        "\n",
        "#brute\n",
        "yaml_list=['data_control_incendie.yaml']\n",
        "rep=\"N:/Informatique/SIG/Application/Jupyterhub/projets/catalogFiles/\"\n",
        "\n",
        "catfeux = open_catalog(rep+yaml_list[0])\n",
        "surface_detectees_brutes=catfeux.surfaces_detectees.read()\n",
        "tile_sentinel=catfeux.tile_sentinel2_line_UTM.read()\n",
        "nc_limits=catfeux.nc_limits.read()\n",
        "\n",
        "tile_sentinel=tile_sentinel.to_crs(epsg=4326)\n",
        "nc_limits=nc_limits.to_crs(epsg=4326)"
      ],
      "id": "e4484db1",
      "execution_count": null,
      "outputs": []
    },
    {
      "cell_type": "code",
      "metadata": {},
      "source": [
        "#| output: false\n",
        "#| echo: false\n",
        "#| warning: false\n",
        "\n",
        "## année en cours\n",
        "tile_occurence=pd.read_csv('N:/Informatique/SIG/Etudes/2023/2309_QC_feux/Travail/Scripts/CQ_sentinel_surfaces_brulees/Controle/tile_occurence.csv')\n",
        "tile_occurence['Name'] = [x[-5:] for x in tile_occurence['Unnamed: 0']]\n",
        "df_concat_year = pd.merge(tile_sentinel, tile_occurence, how='inner',on='Name')\n",
        "\n",
        "#### total\n",
        "surface_detectees_brutes['nom'] = [x[-5:] for x in surface_detectees_brutes['nom']]\n",
        "occurrences_dalles = pd.DataFrame(surface_detectees_brutes[\"nom\"].value_counts())\n",
        "occurrences_dalles['Name']=occurrences_dalles.index\n",
        "df_concat_total = pd.merge(tile_sentinel, occurrences_dalles, how='inner',on='Name')\n",
        "\n",
        "df_concat_year = df_concat_year.to_crs(nc_limits.crs)"
      ],
      "id": "83a1b5b1",
      "execution_count": null,
      "outputs": []
    },
    {
      "cell_type": "markdown",
      "metadata": {},
      "source": [
        "# Generalities \n",
        "\n",
        "## Row\n"
      ],
      "id": "b4000c7c"
    },
    {
      "cell_type": "code",
      "metadata": {
        "content": "valuebox",
        "title": "Detected Area"
      },
      "source": [
        "dict(\n",
        "    icon = \"fire\",\n",
        "    color = \"warning\",\n",
        "    value = \"3050 ha\"\n",
        ")"
      ],
      "id": "434356ab",
      "execution_count": null,
      "outputs": []
    },
    {
      "cell_type": "code",
      "metadata": {
        "content": "valuebox",
        "title": "Pluri-detection"
      },
      "source": [
        "dict(\n",
        "    icon = \"grid-3x3-gap\",\n",
        "    color = \"success\",\n",
        "    value = \"5000\"\n",
        ")"
      ],
      "id": "0e35ef36",
      "execution_count": null,
      "outputs": []
    },
    {
      "cell_type": "code",
      "metadata": {
        "content": "valuebox",
        "title": "Mono-detection"
      },
      "source": [
        "dict(\n",
        "    icon = \"1-square\",\n",
        "    color = \"success\",\n",
        "    value = \"8000\"\n",
        ")"
      ],
      "id": "dad3fe64",
      "execution_count": null,
      "outputs": []
    },
    {
      "cell_type": "markdown",
      "metadata": {},
      "source": [
        "## Row {width=40%}\n"
      ],
      "id": "8900d7ad"
    },
    {
      "cell_type": "code",
      "metadata": {},
      "source": [
        "#| output: true\n",
        "#| echo: false\n",
        "#| warning: false\n",
        "#| error: false\n",
        "\n",
        "fig, ax1 = plt.subplots(1, 1, figsize=(10, 6))  \n",
        "\n",
        "df_concat_year.plot(column=df_concat_year['dalle_names'], cmap='gnuplot', legend=True, ax=ax1)\n",
        "nc_limits.plot(ax=ax1, color='grey', alpha=0.5)\n",
        "plt.title('Number of fire detection with Sentinel-2 in ' +str(year))\n",
        "\n",
        "for idx, row in df_concat_year.iterrows():\n",
        "    ax1.text(row['geometry'].centroid.x, row['geometry'].centroid.y, str(row['Name']), ha='center', va='center')\n",
        "\n",
        "ax1.set_xlim(163, 169)\n",
        "ax1.set_yticks([])\n",
        "ax1.set_xticks([])\n",
        "plt.show();"
      ],
      "id": "f4143fbf",
      "execution_count": null,
      "outputs": []
    },
    {
      "cell_type": "code",
      "metadata": {},
      "source": [
        "#| output: false\n",
        "#| echo: false\n",
        "#| warning: false\n",
        "tile_geom_path = 'N:/Informatique/SIG/Etudes/2023/2309_QC_feux/Travail/Scripts/CQ_sentinel_surfaces_brulees/Controle/shp/tiles_sentinel2_UTM.shp'\n",
        "tile_geom = gpd.read_file(tile_geom_path)\n",
        "\n",
        "polygone_unique = nc_limits.unary_union\n",
        "gdf_union = gpd.GeoDataFrame(geometry=[polygone_unique], crs=nc_limits.crs)\n",
        "\n",
        "if gdf_union.crs != tile_geom.crs:\n",
        "    gdf_union = gdf_union.to_crs(tile_geom.crs)\n",
        "    \n",
        "intersections = []\n",
        "\n",
        "geom1 = gdf_union.geometry.iloc[0]\n",
        "for geom2 in tile_geom.geometry:\n",
        "    intersection = geom1.intersection(geom2)\n",
        "    if not intersection.is_empty:\n",
        "        intersections.append(intersection)\n",
        "\n",
        "gdf_intersections = gpd.GeoDataFrame(geometry=intersections, crs=tile_sentinel.crs)\n",
        "gdf_intersections['Name']=tile_geom['Name']\n",
        "gdf_intersections['surface']=gdf_intersections.area/10000\n",
        "\n",
        "tile_sentinel['surface']= gdf_intersections['surface']"
      ],
      "id": "e3dff2dd",
      "execution_count": null,
      "outputs": []
    },
    {
      "cell_type": "code",
      "metadata": {},
      "source": [
        "#| output: true\n",
        "#| echo: false\n",
        "#| warning: false\n",
        "\n",
        "fig, ax = plt.subplots(1, 1, figsize=(10, 6))\n",
        "\n",
        "tile_sentinel.plot(column=tile_sentinel['surface'], cmap='jet', legend=True, ax=ax)\n",
        "nc_limits.plot(ax=ax, color='grey', alpha=0.5)\n",
        "\n",
        "for idx, row in tile_sentinel.iterrows():\n",
        "    centre = row['geometry'].centroid\n",
        "    ax.text(centre.x, centre.y, str(row['Name']), ha='center', va='center')\n",
        "\n",
        "ax.set_title('Land area (ha) for each tile')\n",
        "ax.set_axis_off()  \n",
        "ax.set_xlim(163, 169)\n",
        "plt.show();"
      ],
      "id": "8c93dea8",
      "execution_count": null,
      "outputs": []
    },
    {
      "cell_type": "markdown",
      "metadata": {},
      "source": [
        "## Column {width=60%}"
      ],
      "id": "d81c7037"
    },
    {
      "cell_type": "code",
      "metadata": {
        "content": "valuebox",
        "title": "Detected Area"
      },
      "source": [
        "dict(\n",
        "    icon = \"fire\",\n",
        "    color = \"warning\",\n",
        "    value = \"3050 ha\"\n",
        ")"
      ],
      "id": "0a94c294",
      "execution_count": null,
      "outputs": []
    },
    {
      "cell_type": "markdown",
      "metadata": {},
      "source": [
        "# Yearly Scale {orientation=\"columns\" scrolling=\"true\"}\n",
        "## Row{height=50%}\n"
      ],
      "id": "429dc8ea"
    },
    {
      "cell_type": "code",
      "metadata": {},
      "source": [
        "#| echo: false\n",
        "#| warning: false\n",
        "## time serie of number of burned area detected daily per tiles\n",
        "hv.extension('bokeh')\n",
        "hv.output(logo=None)\n",
        "\n",
        "surface_detectees_brutes['nom'] = [x[-5:] for x in surface_detectees_brutes['nom']]\n",
        "surface_detectees_brutes['date_'] = pd.to_datetime(surface_detectees_brutes['date_'])\n",
        "\n",
        "daily_counts = surface_detectees_brutes.groupby(['date_', 'nom']).size().reset_index(name='nombre_occurrences')\n",
        "\n",
        "daily_counts['date_'] = daily_counts['date_'].dt.strftime('%Y-%m-%d')\n",
        "\n",
        "date_range = pd.date_range(start=daily_counts['date_'].min(), end=daily_counts['date_'].max())\n",
        "full_date_series = pd.DataFrame(date_range.strftime('%Y-%m-%d'), columns=['date_'])\n",
        "\n",
        "daily_counts_gaps = pd.merge(full_date_series, daily_counts, on='date_', how='left')\n",
        "daily_counts_gaps['nom'] = daily_counts_gaps['nom'].fillna('Inconnu')\n",
        "\n",
        "key_dimensions   = [('date_', 'Date'),('nom', 'tuile')]\n",
        "value_dimensions = [('nombre_occurrences', 'Nombre de détection')]\n",
        "macro1 = hv.Table(daily_counts_gaps, key_dimensions, value_dimensions)\n",
        "\n",
        "###############\n",
        "\n",
        "daily_counts_surf = surface_detectees_brutes.groupby(['date_', 'nom']).surface.sum().reset_index(name='surface_totale')\n",
        "\n",
        "daily_counts_surf['date_'] = pd.to_datetime(daily_counts_surf['date_']).dt.strftime('%Y-%m-%d')\n",
        "\n",
        "daily_counts_surf_gaps = pd.merge(full_date_series, daily_counts_surf, on='date_', how='left')\n",
        "daily_counts_surf_gaps['nom'] = daily_counts_surf_gaps['nom'].fillna('Inconnu')\n",
        "\n",
        "key_dimensions   = [('date_', 'Date'),('nom', 'tuile')]\n",
        "value_dimensions = [('surface_totale', 'Surface (ha)')]\n",
        "macro2 = hv.Table(daily_counts_surf_gaps, key_dimensions, value_dimensions)\n",
        "\n",
        "graph1 = macro1.to.bars(['Date','tuile'], 'Nombre de détection', [])\n",
        "graph2 = macro2.to.bars(['Date','tuile'], 'Surface (ha)', [])\n",
        "\n",
        "layout = graph1 + graph2\n",
        "layout = layout.cols(1)\n",
        "layout.opts(\n",
        "        opts.Bars(color=hv.Cycle('Category20'), show_legend=True, legend_position='right', stacked=True, \n",
        "        tools=['hover'], responsive=True, height=500, width=1800, xrotation=45,\n",
        "        title=\"Burned area (ha) detected per tiles over \" + str(year)\n",
        "))"
      ],
      "id": "b825629b",
      "execution_count": null,
      "outputs": []
    },
    {
      "cell_type": "markdown",
      "metadata": {},
      "source": [
        "# Monthly Scale {orientation=\"columns\" scrolling=\"true\"}\n",
        "## Row{height=100%}\n"
      ],
      "id": "c708f218"
    },
    {
      "cell_type": "code",
      "metadata": {},
      "source": [
        "#| echo: false\n",
        "#| warning: false\n",
        "\n",
        "import numpy as np\n",
        "hv.extension('bokeh')\n",
        "\n",
        "list_tiles=['58KCC','58KCD','58KDB','58KDC','58KEA','58KEB','58KEC',\n",
        "            '58KFA','58KFB','58KFC','58KGA','58KGB','58KGC','58KGV','58KHB']\n",
        "\n",
        "def monthly_tiles(gdf,date_range,tile):\n",
        "    daily_counts_tile=gdf[gdf['nom']==tile]\n",
        "    daily_counts_tile_gaps = pd.merge(date_range, daily_counts_tile, on='date_', how='left')\n",
        "    daily_counts_tile_gaps['nom'] = daily_counts_tile_gaps['nom'].fillna('Inconnu')\n",
        "\n",
        "    key_dimensions   = [('date_', 'Date'),('nom', 'tuile')]\n",
        "    value_dimensions = [('nombre_occurrences', 'Occurence')]\n",
        "    macro1 = hv.Table(daily_counts_tile_gaps, key_dimensions, value_dimensions)\n",
        "    graph1 = macro1.to.bars(['Date','tuile'], 'Occurence', [],label=\"Detection over tile : \" + tile)\n",
        "\n",
        "    return(graph1)\n",
        "\n",
        "graph2=monthly_tiles(daily_counts,full_date_series,list_tiles[0])\n",
        "graph3=monthly_tiles(daily_counts,full_date_series,list_tiles[1])\n",
        "graph4=monthly_tiles(daily_counts,full_date_series,list_tiles[2])\n",
        "graph5=monthly_tiles(daily_counts,full_date_series,list_tiles[3])\n",
        "graph6=monthly_tiles(daily_counts,full_date_series,list_tiles[4])\n",
        "\n",
        "graph7=monthly_tiles(daily_counts,full_date_series,list_tiles[5])\n",
        "graph8=monthly_tiles(daily_counts,full_date_series,list_tiles[6])\n",
        "graph9=monthly_tiles(daily_counts,full_date_series,list_tiles[7])\n",
        "graph10=monthly_tiles(daily_counts,full_date_series,list_tiles[8])\n",
        "graph11=monthly_tiles(daily_counts,full_date_series,list_tiles[9])\n",
        "\n",
        "graph12=monthly_tiles(daily_counts,full_date_series,list_tiles[10])\n",
        "graph13=monthly_tiles(daily_counts,full_date_series,list_tiles[11])\n",
        "graph14=monthly_tiles(daily_counts,full_date_series,list_tiles[12])\n",
        "graph15=monthly_tiles(daily_counts,full_date_series,list_tiles[13])\n",
        "graph16=monthly_tiles(daily_counts,full_date_series,list_tiles[14])\n",
        "\n",
        "\n",
        "layout = (graph2 + graph3 + graph4 + graph5 + graph6+\n",
        "        graph7 + graph8 + graph9 + graph10 + graph11+\n",
        "        graph12 + graph13 + graph14 + graph15 + graph16).cols(3)\n",
        "layout.opts(\n",
        "        opts.Bars(color='black', show_legend=False, legend_position='right', stacked=True, \n",
        "        tools=['hover'], height=300, width=700, xrotation=45\n",
        "))"
      ],
      "id": "ccc4cc05",
      "execution_count": null,
      "outputs": []
    }
  ],
  "metadata": {
    "kernelspec": {
      "name": "python3",
      "language": "python",
      "display_name": "Python 3 (ipykernel)"
    }
  },
  "nbformat": 4,
  "nbformat_minor": 5
}